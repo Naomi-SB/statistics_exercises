{
 "cells": [
  {
   "cell_type": "code",
   "execution_count": 6,
   "id": "bb89a38e",
   "metadata": {},
   "outputs": [],
   "source": [
    "import numpy as np\n",
    "import pandas as pd\n",
    "import matplotlib.pyplot as plt\n",
    "%config InlineBackend.figure_format = 'retina'\n",
    "import viz # curriculum example visualizations\n",
    "\n",
    "np.random.seed(38)"
   ]
  },
  {
   "cell_type": "code",
   "execution_count": 7,
   "id": "0465e7b4",
   "metadata": {},
   "outputs": [
    {
     "data": {
      "text/plain": [
       "array([[2, 4],\n",
       "       [6, 4],\n",
       "       [5, 5],\n",
       "       ...,\n",
       "       [2, 6],\n",
       "       [5, 5],\n",
       "       [5, 3]])"
      ]
     },
     "execution_count": 7,
     "metadata": {},
     "output_type": "execute_result"
    }
   ],
   "source": [
    "#How likely is it that you roll doubles when rolling two dice?\n",
    "# Assumptions: I roll two dice simultaneously, what is the likelyhood they are the same?\n",
    "# NOT: roll die A, what is the likelyhood die B matches?\n",
    "n_trials = nrows = 10_000\n",
    "n_dice = ncols = 2\n",
    "\n",
    "rolls = np.random.choice([1, 2, 3, 4, 5, 6], size = (n_trials, n_dice))\n",
    "rolls"
   ]
  },
  {
   "cell_type": "code",
   "execution_count": 8,
   "id": "ade1810a",
   "metadata": {},
   "outputs": [
    {
     "data": {
      "text/html": [
       "<div>\n",
       "<style scoped>\n",
       "    .dataframe tbody tr th:only-of-type {\n",
       "        vertical-align: middle;\n",
       "    }\n",
       "\n",
       "    .dataframe tbody tr th {\n",
       "        vertical-align: top;\n",
       "    }\n",
       "\n",
       "    .dataframe thead th {\n",
       "        text-align: right;\n",
       "    }\n",
       "</style>\n",
       "<table border=\"1\" class=\"dataframe\">\n",
       "  <thead>\n",
       "    <tr style=\"text-align: right;\">\n",
       "      <th></th>\n",
       "      <th>roll_1</th>\n",
       "      <th>roll_2</th>\n",
       "    </tr>\n",
       "  </thead>\n",
       "  <tbody>\n",
       "    <tr>\n",
       "      <th>0</th>\n",
       "      <td>2</td>\n",
       "      <td>4</td>\n",
       "    </tr>\n",
       "    <tr>\n",
       "      <th>1</th>\n",
       "      <td>6</td>\n",
       "      <td>4</td>\n",
       "    </tr>\n",
       "    <tr>\n",
       "      <th>2</th>\n",
       "      <td>5</td>\n",
       "      <td>5</td>\n",
       "    </tr>\n",
       "    <tr>\n",
       "      <th>3</th>\n",
       "      <td>3</td>\n",
       "      <td>2</td>\n",
       "    </tr>\n",
       "    <tr>\n",
       "      <th>4</th>\n",
       "      <td>2</td>\n",
       "      <td>5</td>\n",
       "    </tr>\n",
       "  </tbody>\n",
       "</table>\n",
       "</div>"
      ],
      "text/plain": [
       "   roll_1  roll_2\n",
       "0       2       4\n",
       "1       6       4\n",
       "2       5       5\n",
       "3       3       2\n",
       "4       2       5"
      ]
     },
     "execution_count": 8,
     "metadata": {},
     "output_type": "execute_result"
    }
   ],
   "source": [
    "rolls_df = pd.DataFrame(rolls, columns=['roll_1', 'roll_2',])\n",
    "rolls_df.head()"
   ]
  },
  {
   "cell_type": "code",
   "execution_count": 9,
   "id": "cf6e4f25",
   "metadata": {},
   "outputs": [
    {
     "data": {
      "text/plain": [
       "0       False\n",
       "1       False\n",
       "2        True\n",
       "3       False\n",
       "4       False\n",
       "        ...  \n",
       "9995    False\n",
       "9996    False\n",
       "9997    False\n",
       "9998     True\n",
       "9999    False\n",
       "Length: 10000, dtype: bool"
      ]
     },
     "execution_count": 9,
     "metadata": {},
     "output_type": "execute_result"
    }
   ],
   "source": [
    "doubles = rolls_df.roll_1 == rolls_df.roll_2\n",
    "doubles"
   ]
  },
  {
   "cell_type": "code",
   "execution_count": 10,
   "id": "516b1f79",
   "metadata": {},
   "outputs": [
    {
     "data": {
      "text/plain": [
       "1623"
      ]
     },
     "execution_count": 10,
     "metadata": {},
     "output_type": "execute_result"
    }
   ],
   "source": [
    "sum(doubles)"
   ]
  },
  {
   "cell_type": "code",
   "execution_count": 12,
   "id": "c3d08ecd",
   "metadata": {},
   "outputs": [
    {
     "data": {
      "text/plain": [
       "16.23"
      ]
     },
     "execution_count": 12,
     "metadata": {},
     "output_type": "execute_result"
    }
   ],
   "source": [
    "# percent chance of rolling doubles\n",
    "sum(doubles)/len(rolls) * 100"
   ]
  },
  {
   "cell_type": "code",
   "execution_count": 29,
   "id": "56a269fc",
   "metadata": {},
   "outputs": [
    {
     "data": {
      "text/plain": [
       "array([[False,  True,  True, ..., False, False,  True],\n",
       "       [False,  True,  True, ..., False,  True,  True],\n",
       "       [ True,  True,  True, ..., False,  True,  True],\n",
       "       ...,\n",
       "       [ True,  True, False, ..., False,  True, False],\n",
       "       [False,  True, False, ...,  True, False, False],\n",
       "       [ True,  True, False, ...,  True,  True, False]])"
      ]
     },
     "execution_count": 29,
     "metadata": {},
     "output_type": "execute_result"
    }
   ],
   "source": [
    "#2a If you flip 8 coins, what is the probability of getting exactly 3 heads? \n",
    "# NOT three in a row. \n",
    "# 3 heads, no more, no less\n",
    "n_trials = nrows = 10_000\n",
    "n_coins = ncols = 8\n",
    "\n",
    "flips = np.random.choice([True, False], size = (n_trials, n_coins))\n",
    "flips\n",
    "\n",
    "#heads = True\n",
    "# tails = False"
   ]
  },
  {
   "cell_type": "code",
   "execution_count": 30,
   "id": "a5132e3b",
   "metadata": {
    "scrolled": true
   },
   "outputs": [
    {
     "data": {
      "text/html": [
       "<div>\n",
       "<style scoped>\n",
       "    .dataframe tbody tr th:only-of-type {\n",
       "        vertical-align: middle;\n",
       "    }\n",
       "\n",
       "    .dataframe tbody tr th {\n",
       "        vertical-align: top;\n",
       "    }\n",
       "\n",
       "    .dataframe thead th {\n",
       "        text-align: right;\n",
       "    }\n",
       "</style>\n",
       "<table border=\"1\" class=\"dataframe\">\n",
       "  <thead>\n",
       "    <tr style=\"text-align: right;\">\n",
       "      <th></th>\n",
       "      <th>f1</th>\n",
       "      <th>f2</th>\n",
       "      <th>f3</th>\n",
       "      <th>f4</th>\n",
       "      <th>f5</th>\n",
       "      <th>f6</th>\n",
       "      <th>f7</th>\n",
       "      <th>f8</th>\n",
       "    </tr>\n",
       "  </thead>\n",
       "  <tbody>\n",
       "    <tr>\n",
       "      <th>0</th>\n",
       "      <td>False</td>\n",
       "      <td>True</td>\n",
       "      <td>True</td>\n",
       "      <td>True</td>\n",
       "      <td>False</td>\n",
       "      <td>False</td>\n",
       "      <td>False</td>\n",
       "      <td>True</td>\n",
       "    </tr>\n",
       "    <tr>\n",
       "      <th>1</th>\n",
       "      <td>False</td>\n",
       "      <td>True</td>\n",
       "      <td>True</td>\n",
       "      <td>False</td>\n",
       "      <td>True</td>\n",
       "      <td>False</td>\n",
       "      <td>True</td>\n",
       "      <td>True</td>\n",
       "    </tr>\n",
       "    <tr>\n",
       "      <th>2</th>\n",
       "      <td>True</td>\n",
       "      <td>True</td>\n",
       "      <td>True</td>\n",
       "      <td>False</td>\n",
       "      <td>True</td>\n",
       "      <td>False</td>\n",
       "      <td>True</td>\n",
       "      <td>True</td>\n",
       "    </tr>\n",
       "    <tr>\n",
       "      <th>3</th>\n",
       "      <td>False</td>\n",
       "      <td>False</td>\n",
       "      <td>True</td>\n",
       "      <td>True</td>\n",
       "      <td>True</td>\n",
       "      <td>True</td>\n",
       "      <td>False</td>\n",
       "      <td>True</td>\n",
       "    </tr>\n",
       "    <tr>\n",
       "      <th>4</th>\n",
       "      <td>True</td>\n",
       "      <td>True</td>\n",
       "      <td>False</td>\n",
       "      <td>False</td>\n",
       "      <td>True</td>\n",
       "      <td>False</td>\n",
       "      <td>True</td>\n",
       "      <td>False</td>\n",
       "    </tr>\n",
       "  </tbody>\n",
       "</table>\n",
       "</div>"
      ],
      "text/plain": [
       "      f1     f2     f3     f4     f5     f6     f7     f8\n",
       "0  False   True   True   True  False  False  False   True\n",
       "1  False   True   True  False   True  False   True   True\n",
       "2   True   True   True  False   True  False   True   True\n",
       "3  False  False   True   True   True   True  False   True\n",
       "4   True   True  False  False   True  False   True  False"
      ]
     },
     "execution_count": 30,
     "metadata": {},
     "output_type": "execute_result"
    }
   ],
   "source": [
    "flips_df = pd.DataFrame(flips, columns=['f1', 'f2', 'f3', 'f4', 'f5', 'f6', 'f7', 'f8'])\n",
    "flips_df.head()"
   ]
  },
  {
   "cell_type": "code",
   "execution_count": 38,
   "id": "3e887d3b",
   "metadata": {},
   "outputs": [
    {
     "data": {
      "text/plain": [
       "0.2184"
      ]
     },
     "execution_count": 38,
     "metadata": {},
     "output_type": "execute_result"
    }
   ],
   "source": [
    "(flips_df.sum(axis = 1) == 3).mean()"
   ]
  },
  {
   "cell_type": "code",
   "execution_count": 37,
   "id": "da65ade7",
   "metadata": {},
   "outputs": [
    {
     "data": {
      "text/plain": [
       "0.6356"
      ]
     },
     "execution_count": 37,
     "metadata": {},
     "output_type": "execute_result"
    }
   ],
   "source": [
    "#more than 3 heads\n",
    "(flips_df.sum(axis = 1) > 3).mean()"
   ]
  },
  {
   "cell_type": "code",
   "execution_count": 39,
   "id": "24dc5a7d",
   "metadata": {},
   "outputs": [
    {
     "data": {
      "text/plain": [
       "0.146"
      ]
     },
     "execution_count": 39,
     "metadata": {},
     "output_type": "execute_result"
    }
   ],
   "source": [
    "# less than 3 heads (just to check my work and make sure they add up to 1.0)\n",
    "(flips_df.sum(axis = 1) < 3).mean()"
   ]
  },
  {
   "cell_type": "code",
   "execution_count": 40,
   "id": "229643db",
   "metadata": {},
   "outputs": [],
   "source": [
    "# 3. There are approximitely 3 web development cohorts for every 1 data science cohort at Codeup.\n",
    "#    (W-W-W-D)\n",
    "#    Assuming that Codeup randomly selects an alumni to put on a billboard, \n",
    "#    what are the odds that the two billboards I drive past both have data science students on them?\n",
    "\n",
    "\n",
    "p_ds_students = .25\n",
    "n_billboards = ncols = 2\n",
    "n_simulated_students = nrows = 10**3"
   ]
  },
  {
   "cell_type": "code",
   "execution_count": 41,
   "id": "2c85b15a",
   "metadata": {},
   "outputs": [
    {
     "data": {
      "text/plain": [
       "array([[0.11072028, 0.17327876],\n",
       "       [0.1026073 , 0.52852152],\n",
       "       [0.15078434, 0.80161212],\n",
       "       ...,\n",
       "       [0.8008715 , 0.06148492],\n",
       "       [0.12364835, 0.2721015 ],\n",
       "       [0.90367747, 0.82423612]])"
      ]
     },
     "execution_count": 41,
     "metadata": {},
     "output_type": "execute_result"
    }
   ],
   "source": [
    "data = np.random.random(size =(nrows, ncols))\n",
    "data"
   ]
  },
  {
   "cell_type": "code",
   "execution_count": 43,
   "id": "ae964abe",
   "metadata": {},
   "outputs": [
    {
     "data": {
      "text/plain": [
       "array([[ True,  True],\n",
       "       [ True, False],\n",
       "       [ True, False],\n",
       "       ...,\n",
       "       [False,  True],\n",
       "       [ True, False],\n",
       "       [False, False]])"
      ]
     },
     "execution_count": 43,
     "metadata": {},
     "output_type": "execute_result"
    }
   ],
   "source": [
    "both_ds_students = data < p_ds_students\n",
    "both_ds_students"
   ]
  },
  {
   "cell_type": "code",
   "execution_count": 45,
   "id": "7a76adb5",
   "metadata": {},
   "outputs": [
    {
     "data": {
      "text/plain": [
       "0.072"
      ]
     },
     "execution_count": 45,
     "metadata": {},
     "output_type": "execute_result"
    }
   ],
   "source": [
    "(both_ds_students.sum(axis=1) == 2).mean()"
   ]
  },
  {
   "cell_type": "code",
   "execution_count": 54,
   "id": "ac2dedf3",
   "metadata": {},
   "outputs": [
    {
     "data": {
      "text/html": [
       "<div>\n",
       "<style scoped>\n",
       "    .dataframe tbody tr th:only-of-type {\n",
       "        vertical-align: middle;\n",
       "    }\n",
       "\n",
       "    .dataframe tbody tr th {\n",
       "        vertical-align: top;\n",
       "    }\n",
       "\n",
       "    .dataframe thead th {\n",
       "        text-align: right;\n",
       "    }\n",
       "</style>\n",
       "<table border=\"1\" class=\"dataframe\">\n",
       "  <thead>\n",
       "    <tr style=\"text-align: right;\">\n",
       "      <th></th>\n",
       "      <th>M</th>\n",
       "      <th>T</th>\n",
       "      <th>W</th>\n",
       "      <th>Th</th>\n",
       "      <th>F</th>\n",
       "    </tr>\n",
       "  </thead>\n",
       "  <tbody>\n",
       "    <tr>\n",
       "      <th>0</th>\n",
       "      <td>2.754663</td>\n",
       "      <td>3.305781</td>\n",
       "      <td>5.075428</td>\n",
       "      <td>3.355585</td>\n",
       "      <td>0.360560</td>\n",
       "    </tr>\n",
       "    <tr>\n",
       "      <th>1</th>\n",
       "      <td>3.357916</td>\n",
       "      <td>4.749546</td>\n",
       "      <td>1.256678</td>\n",
       "      <td>4.407390</td>\n",
       "      <td>2.317589</td>\n",
       "    </tr>\n",
       "    <tr>\n",
       "      <th>2</th>\n",
       "      <td>3.132745</td>\n",
       "      <td>4.691988</td>\n",
       "      <td>2.716303</td>\n",
       "      <td>2.473361</td>\n",
       "      <td>1.542024</td>\n",
       "    </tr>\n",
       "    <tr>\n",
       "      <th>3</th>\n",
       "      <td>4.495986</td>\n",
       "      <td>3.476576</td>\n",
       "      <td>2.673707</td>\n",
       "      <td>3.377083</td>\n",
       "      <td>4.000160</td>\n",
       "    </tr>\n",
       "    <tr>\n",
       "      <th>4</th>\n",
       "      <td>4.798414</td>\n",
       "      <td>4.727976</td>\n",
       "      <td>3.864261</td>\n",
       "      <td>1.501108</td>\n",
       "      <td>3.783632</td>\n",
       "    </tr>\n",
       "    <tr>\n",
       "      <th>5</th>\n",
       "      <td>2.123491</td>\n",
       "      <td>3.372824</td>\n",
       "      <td>2.756316</td>\n",
       "      <td>3.955875</td>\n",
       "      <td>4.631400</td>\n",
       "    </tr>\n",
       "    <tr>\n",
       "      <th>6</th>\n",
       "      <td>2.377617</td>\n",
       "      <td>5.290105</td>\n",
       "      <td>2.648585</td>\n",
       "      <td>4.876278</td>\n",
       "      <td>5.323677</td>\n",
       "    </tr>\n",
       "    <tr>\n",
       "      <th>7</th>\n",
       "      <td>2.621638</td>\n",
       "      <td>1.305784</td>\n",
       "      <td>2.556778</td>\n",
       "      <td>3.168505</td>\n",
       "      <td>2.631591</td>\n",
       "    </tr>\n",
       "    <tr>\n",
       "      <th>8</th>\n",
       "      <td>2.987118</td>\n",
       "      <td>3.123210</td>\n",
       "      <td>3.316638</td>\n",
       "      <td>-0.507865</td>\n",
       "      <td>4.484271</td>\n",
       "    </tr>\n",
       "    <tr>\n",
       "      <th>9</th>\n",
       "      <td>2.144857</td>\n",
       "      <td>2.891502</td>\n",
       "      <td>2.818165</td>\n",
       "      <td>2.003391</td>\n",
       "      <td>2.856540</td>\n",
       "    </tr>\n",
       "  </tbody>\n",
       "</table>\n",
       "</div>"
      ],
      "text/plain": [
       "          M         T         W        Th         F\n",
       "0  2.754663  3.305781  5.075428  3.355585  0.360560\n",
       "1  3.357916  4.749546  1.256678  4.407390  2.317589\n",
       "2  3.132745  4.691988  2.716303  2.473361  1.542024\n",
       "3  4.495986  3.476576  2.673707  3.377083  4.000160\n",
       "4  4.798414  4.727976  3.864261  1.501108  3.783632\n",
       "5  2.123491  3.372824  2.756316  3.955875  4.631400\n",
       "6  2.377617  5.290105  2.648585  4.876278  5.323677\n",
       "7  2.621638  1.305784  2.556778  3.168505  2.631591\n",
       "8  2.987118  3.123210  3.316638 -0.507865  4.484271\n",
       "9  2.144857  2.891502  2.818165  2.003391  2.856540"
      ]
     },
     "execution_count": 54,
     "metadata": {},
     "output_type": "execute_result"
    }
   ],
   "source": [
    "# 4 Poptart Problem\n",
    "# Monday morning = 17 poptarts. Averge consumption rate: 3/day. STD: 1.5 \n",
    "# Mon EOD: 14\n",
    "# Tues EOD: 11\n",
    "# Wed EOD: 8\n",
    "# Thu EOD: 5\n",
    "# Fri EOD: 2 what is the liklihood one of them will be mine?\n",
    "\n",
    "poptarts = np.random.normal(3, 1.5, size=(10, 5))\n",
    "poptarts_df = pd.DataFrame(poptarts, columns = ['M', 'T', 'W', 'Th', 'F'])\n",
    "poptarts_df"
   ]
  },
  {
   "cell_type": "code",
   "execution_count": 55,
   "id": "a226befc",
   "metadata": {},
   "outputs": [
    {
     "data": {
      "text/plain": [
       "0.3"
      ]
     },
     "execution_count": 55,
     "metadata": {},
     "output_type": "execute_result"
    }
   ],
   "source": [
    "# if the sum of a row >= 17, I get no poptarts on Friday. 30% chance I don't get poptarts.\n",
    "(poptarts_df.sum(axis = 1) >=17).mean()"
   ]
  },
  {
   "cell_type": "code",
   "execution_count": 56,
   "id": "e54ab216",
   "metadata": {},
   "outputs": [
    {
     "data": {
      "text/plain": [
       "0.7"
      ]
     },
     "execution_count": 56,
     "metadata": {},
     "output_type": "execute_result"
    }
   ],
   "source": [
    "(poptarts_df.sum(axis = 1) <=17).mean()"
   ]
  },
  {
   "cell_type": "code",
   "execution_count": 87,
   "id": "1fd74b24",
   "metadata": {},
   "outputs": [],
   "source": [
    "#5. Compare heights:\n",
    "#.  - Men have an average height of 178 cm and standard deviation of 8cm.\n",
    "#.  - Women have a mean of 170, sd = 6cm.\n",
    "#.  _ If a man and woman are chosen at random, what is the likelihood the woman is taller than the man?\n",
    "\n",
    "men = np.random.normal(178, 8, (100))\n",
    "women = np.random.normal(170, 6, (100))\n",
    "men_df = pd.DataFrame(men, columns = [\"men\"])\n",
    "women_df = pd.DataFrame(women, columns = [\"women\"])"
   ]
  },
  {
   "cell_type": "code",
   "execution_count": 88,
   "id": "1a9d6e25",
   "metadata": {},
   "outputs": [
    {
     "data": {
      "text/html": [
       "<div>\n",
       "<style scoped>\n",
       "    .dataframe tbody tr th:only-of-type {\n",
       "        vertical-align: middle;\n",
       "    }\n",
       "\n",
       "    .dataframe tbody tr th {\n",
       "        vertical-align: top;\n",
       "    }\n",
       "\n",
       "    .dataframe thead th {\n",
       "        text-align: right;\n",
       "    }\n",
       "</style>\n",
       "<table border=\"1\" class=\"dataframe\">\n",
       "  <thead>\n",
       "    <tr style=\"text-align: right;\">\n",
       "      <th></th>\n",
       "      <th>men</th>\n",
       "    </tr>\n",
       "  </thead>\n",
       "  <tbody>\n",
       "    <tr>\n",
       "      <th>0</th>\n",
       "      <td>174.820053</td>\n",
       "    </tr>\n",
       "    <tr>\n",
       "      <th>1</th>\n",
       "      <td>184.833461</td>\n",
       "    </tr>\n",
       "    <tr>\n",
       "      <th>2</th>\n",
       "      <td>182.050676</td>\n",
       "    </tr>\n",
       "    <tr>\n",
       "      <th>3</th>\n",
       "      <td>182.649470</td>\n",
       "    </tr>\n",
       "    <tr>\n",
       "      <th>4</th>\n",
       "      <td>176.800016</td>\n",
       "    </tr>\n",
       "    <tr>\n",
       "      <th>...</th>\n",
       "      <td>...</td>\n",
       "    </tr>\n",
       "    <tr>\n",
       "      <th>95</th>\n",
       "      <td>178.969282</td>\n",
       "    </tr>\n",
       "    <tr>\n",
       "      <th>96</th>\n",
       "      <td>180.530786</td>\n",
       "    </tr>\n",
       "    <tr>\n",
       "      <th>97</th>\n",
       "      <td>175.822883</td>\n",
       "    </tr>\n",
       "    <tr>\n",
       "      <th>98</th>\n",
       "      <td>174.996737</td>\n",
       "    </tr>\n",
       "    <tr>\n",
       "      <th>99</th>\n",
       "      <td>184.417338</td>\n",
       "    </tr>\n",
       "  </tbody>\n",
       "</table>\n",
       "<p>100 rows × 1 columns</p>\n",
       "</div>"
      ],
      "text/plain": [
       "           men\n",
       "0   174.820053\n",
       "1   184.833461\n",
       "2   182.050676\n",
       "3   182.649470\n",
       "4   176.800016\n",
       "..         ...\n",
       "95  178.969282\n",
       "96  180.530786\n",
       "97  175.822883\n",
       "98  174.996737\n",
       "99  184.417338\n",
       "\n",
       "[100 rows x 1 columns]"
      ]
     },
     "execution_count": 88,
     "metadata": {},
     "output_type": "execute_result"
    }
   ],
   "source": [
    "men_df"
   ]
  },
  {
   "cell_type": "code",
   "execution_count": 89,
   "id": "a996db0b",
   "metadata": {},
   "outputs": [
    {
     "data": {
      "text/html": [
       "<div>\n",
       "<style scoped>\n",
       "    .dataframe tbody tr th:only-of-type {\n",
       "        vertical-align: middle;\n",
       "    }\n",
       "\n",
       "    .dataframe tbody tr th {\n",
       "        vertical-align: top;\n",
       "    }\n",
       "\n",
       "    .dataframe thead th {\n",
       "        text-align: right;\n",
       "    }\n",
       "</style>\n",
       "<table border=\"1\" class=\"dataframe\">\n",
       "  <thead>\n",
       "    <tr style=\"text-align: right;\">\n",
       "      <th></th>\n",
       "      <th>women</th>\n",
       "    </tr>\n",
       "  </thead>\n",
       "  <tbody>\n",
       "    <tr>\n",
       "      <th>0</th>\n",
       "      <td>161.381920</td>\n",
       "    </tr>\n",
       "    <tr>\n",
       "      <th>1</th>\n",
       "      <td>160.029094</td>\n",
       "    </tr>\n",
       "    <tr>\n",
       "      <th>2</th>\n",
       "      <td>173.683999</td>\n",
       "    </tr>\n",
       "    <tr>\n",
       "      <th>3</th>\n",
       "      <td>174.274000</td>\n",
       "    </tr>\n",
       "    <tr>\n",
       "      <th>4</th>\n",
       "      <td>161.156121</td>\n",
       "    </tr>\n",
       "    <tr>\n",
       "      <th>...</th>\n",
       "      <td>...</td>\n",
       "    </tr>\n",
       "    <tr>\n",
       "      <th>95</th>\n",
       "      <td>174.957996</td>\n",
       "    </tr>\n",
       "    <tr>\n",
       "      <th>96</th>\n",
       "      <td>159.160203</td>\n",
       "    </tr>\n",
       "    <tr>\n",
       "      <th>97</th>\n",
       "      <td>174.281224</td>\n",
       "    </tr>\n",
       "    <tr>\n",
       "      <th>98</th>\n",
       "      <td>162.014317</td>\n",
       "    </tr>\n",
       "    <tr>\n",
       "      <th>99</th>\n",
       "      <td>177.210948</td>\n",
       "    </tr>\n",
       "  </tbody>\n",
       "</table>\n",
       "<p>100 rows × 1 columns</p>\n",
       "</div>"
      ],
      "text/plain": [
       "         women\n",
       "0   161.381920\n",
       "1   160.029094\n",
       "2   173.683999\n",
       "3   174.274000\n",
       "4   161.156121\n",
       "..         ...\n",
       "95  174.957996\n",
       "96  159.160203\n",
       "97  174.281224\n",
       "98  162.014317\n",
       "99  177.210948\n",
       "\n",
       "[100 rows x 1 columns]"
      ]
     },
     "execution_count": 89,
     "metadata": {},
     "output_type": "execute_result"
    }
   ],
   "source": [
    "women_df"
   ]
  },
  {
   "cell_type": "code",
   "execution_count": 90,
   "id": "024b018b",
   "metadata": {},
   "outputs": [
    {
     "data": {
      "text/html": [
       "<div>\n",
       "<style scoped>\n",
       "    .dataframe tbody tr th:only-of-type {\n",
       "        vertical-align: middle;\n",
       "    }\n",
       "\n",
       "    .dataframe tbody tr th {\n",
       "        vertical-align: top;\n",
       "    }\n",
       "\n",
       "    .dataframe thead th {\n",
       "        text-align: right;\n",
       "    }\n",
       "</style>\n",
       "<table border=\"1\" class=\"dataframe\">\n",
       "  <thead>\n",
       "    <tr style=\"text-align: right;\">\n",
       "      <th></th>\n",
       "      <th>men</th>\n",
       "      <th>women</th>\n",
       "    </tr>\n",
       "  </thead>\n",
       "  <tbody>\n",
       "    <tr>\n",
       "      <th>0</th>\n",
       "      <td>174.820053</td>\n",
       "      <td>161.381920</td>\n",
       "    </tr>\n",
       "    <tr>\n",
       "      <th>1</th>\n",
       "      <td>184.833461</td>\n",
       "      <td>160.029094</td>\n",
       "    </tr>\n",
       "    <tr>\n",
       "      <th>2</th>\n",
       "      <td>182.050676</td>\n",
       "      <td>173.683999</td>\n",
       "    </tr>\n",
       "    <tr>\n",
       "      <th>3</th>\n",
       "      <td>182.649470</td>\n",
       "      <td>174.274000</td>\n",
       "    </tr>\n",
       "    <tr>\n",
       "      <th>4</th>\n",
       "      <td>176.800016</td>\n",
       "      <td>161.156121</td>\n",
       "    </tr>\n",
       "    <tr>\n",
       "      <th>...</th>\n",
       "      <td>...</td>\n",
       "      <td>...</td>\n",
       "    </tr>\n",
       "    <tr>\n",
       "      <th>95</th>\n",
       "      <td>178.969282</td>\n",
       "      <td>174.957996</td>\n",
       "    </tr>\n",
       "    <tr>\n",
       "      <th>96</th>\n",
       "      <td>180.530786</td>\n",
       "      <td>159.160203</td>\n",
       "    </tr>\n",
       "    <tr>\n",
       "      <th>97</th>\n",
       "      <td>175.822883</td>\n",
       "      <td>174.281224</td>\n",
       "    </tr>\n",
       "    <tr>\n",
       "      <th>98</th>\n",
       "      <td>174.996737</td>\n",
       "      <td>162.014317</td>\n",
       "    </tr>\n",
       "    <tr>\n",
       "      <th>99</th>\n",
       "      <td>184.417338</td>\n",
       "      <td>177.210948</td>\n",
       "    </tr>\n",
       "  </tbody>\n",
       "</table>\n",
       "<p>100 rows × 2 columns</p>\n",
       "</div>"
      ],
      "text/plain": [
       "           men       women\n",
       "0   174.820053  161.381920\n",
       "1   184.833461  160.029094\n",
       "2   182.050676  173.683999\n",
       "3   182.649470  174.274000\n",
       "4   176.800016  161.156121\n",
       "..         ...         ...\n",
       "95  178.969282  174.957996\n",
       "96  180.530786  159.160203\n",
       "97  175.822883  174.281224\n",
       "98  174.996737  162.014317\n",
       "99  184.417338  177.210948\n",
       "\n",
       "[100 rows x 2 columns]"
      ]
     },
     "execution_count": 90,
     "metadata": {},
     "output_type": "execute_result"
    }
   ],
   "source": [
    "heights_df = pd.concat([men_df, women_df], axis = 1)\n",
    "heights_df"
   ]
  },
  {
   "cell_type": "code",
   "execution_count": 91,
   "id": "05077934",
   "metadata": {},
   "outputs": [
    {
     "data": {
      "text/plain": [
       "193.15936894624448"
      ]
     },
     "execution_count": 91,
     "metadata": {},
     "output_type": "execute_result"
    }
   ],
   "source": [
    "heights_df.men.max()"
   ]
  },
  {
   "cell_type": "code",
   "execution_count": 100,
   "id": "cee7182a",
   "metadata": {},
   "outputs": [],
   "source": [
    "heights_df['tall_women']= heights_df.men < heights_df.women\n"
   ]
  },
  {
   "cell_type": "code",
   "execution_count": 101,
   "id": "182f1f4e",
   "metadata": {},
   "outputs": [
    {
     "data": {
      "text/html": [
       "<div>\n",
       "<style scoped>\n",
       "    .dataframe tbody tr th:only-of-type {\n",
       "        vertical-align: middle;\n",
       "    }\n",
       "\n",
       "    .dataframe tbody tr th {\n",
       "        vertical-align: top;\n",
       "    }\n",
       "\n",
       "    .dataframe thead th {\n",
       "        text-align: right;\n",
       "    }\n",
       "</style>\n",
       "<table border=\"1\" class=\"dataframe\">\n",
       "  <thead>\n",
       "    <tr style=\"text-align: right;\">\n",
       "      <th></th>\n",
       "      <th>men</th>\n",
       "      <th>women</th>\n",
       "      <th>tall_women</th>\n",
       "    </tr>\n",
       "  </thead>\n",
       "  <tbody>\n",
       "    <tr>\n",
       "      <th>0</th>\n",
       "      <td>174.820053</td>\n",
       "      <td>161.381920</td>\n",
       "      <td>False</td>\n",
       "    </tr>\n",
       "    <tr>\n",
       "      <th>1</th>\n",
       "      <td>184.833461</td>\n",
       "      <td>160.029094</td>\n",
       "      <td>False</td>\n",
       "    </tr>\n",
       "    <tr>\n",
       "      <th>2</th>\n",
       "      <td>182.050676</td>\n",
       "      <td>173.683999</td>\n",
       "      <td>False</td>\n",
       "    </tr>\n",
       "    <tr>\n",
       "      <th>3</th>\n",
       "      <td>182.649470</td>\n",
       "      <td>174.274000</td>\n",
       "      <td>False</td>\n",
       "    </tr>\n",
       "    <tr>\n",
       "      <th>4</th>\n",
       "      <td>176.800016</td>\n",
       "      <td>161.156121</td>\n",
       "      <td>False</td>\n",
       "    </tr>\n",
       "    <tr>\n",
       "      <th>...</th>\n",
       "      <td>...</td>\n",
       "      <td>...</td>\n",
       "      <td>...</td>\n",
       "    </tr>\n",
       "    <tr>\n",
       "      <th>95</th>\n",
       "      <td>178.969282</td>\n",
       "      <td>174.957996</td>\n",
       "      <td>False</td>\n",
       "    </tr>\n",
       "    <tr>\n",
       "      <th>96</th>\n",
       "      <td>180.530786</td>\n",
       "      <td>159.160203</td>\n",
       "      <td>False</td>\n",
       "    </tr>\n",
       "    <tr>\n",
       "      <th>97</th>\n",
       "      <td>175.822883</td>\n",
       "      <td>174.281224</td>\n",
       "      <td>False</td>\n",
       "    </tr>\n",
       "    <tr>\n",
       "      <th>98</th>\n",
       "      <td>174.996737</td>\n",
       "      <td>162.014317</td>\n",
       "      <td>False</td>\n",
       "    </tr>\n",
       "    <tr>\n",
       "      <th>99</th>\n",
       "      <td>184.417338</td>\n",
       "      <td>177.210948</td>\n",
       "      <td>False</td>\n",
       "    </tr>\n",
       "  </tbody>\n",
       "</table>\n",
       "<p>100 rows × 3 columns</p>\n",
       "</div>"
      ],
      "text/plain": [
       "           men       women  tall_women\n",
       "0   174.820053  161.381920       False\n",
       "1   184.833461  160.029094       False\n",
       "2   182.050676  173.683999       False\n",
       "3   182.649470  174.274000       False\n",
       "4   176.800016  161.156121       False\n",
       "..         ...         ...         ...\n",
       "95  178.969282  174.957996       False\n",
       "96  180.530786  159.160203       False\n",
       "97  175.822883  174.281224       False\n",
       "98  174.996737  162.014317       False\n",
       "99  184.417338  177.210948       False\n",
       "\n",
       "[100 rows x 3 columns]"
      ]
     },
     "execution_count": 101,
     "metadata": {},
     "output_type": "execute_result"
    }
   ],
   "source": [
    "heights_df"
   ]
  },
  {
   "cell_type": "code",
   "execution_count": 104,
   "id": "b9c330df",
   "metadata": {},
   "outputs": [
    {
     "data": {
      "text/plain": [
       "12"
      ]
     },
     "execution_count": 104,
     "metadata": {},
     "output_type": "execute_result"
    }
   ],
   "source": [
    "heights_df.tall_women.sum()"
   ]
  },
  {
   "cell_type": "code",
   "execution_count": null,
   "id": "ae3de3e5",
   "metadata": {},
   "outputs": [],
   "source": []
  }
 ],
 "metadata": {
  "kernelspec": {
   "display_name": "Python 3 (ipykernel)",
   "language": "python",
   "name": "python3"
  },
  "language_info": {
   "codemirror_mode": {
    "name": "ipython",
    "version": 3
   },
   "file_extension": ".py",
   "mimetype": "text/x-python",
   "name": "python",
   "nbconvert_exporter": "python",
   "pygments_lexer": "ipython3",
   "version": "3.9.12"
  }
 },
 "nbformat": 4,
 "nbformat_minor": 5
}
