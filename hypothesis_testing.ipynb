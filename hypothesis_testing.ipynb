{
 "cells": [
  {
   "cell_type": "markdown",
   "id": "36563576",
   "metadata": {},
   "source": [
    "For each of the following questions, formulate a null and alternative hypothesis (be as specific as you can be), then give an example of what a true positive, true negative, type I and type II errors would look like.\n"
   ]
  },
  {
   "cell_type": "markdown",
   "id": "52ed4c7c",
   "metadata": {},
   "source": [
    "### Has the network latency gone up since we switched internet service providers?\n",
    "\n",
    "- before switch/after switch(boolean), network latency (numeric, time)\n",
    "- H_(0): The network latency has either decreased or not been affected by the change in internet provider.\n",
    "- H_(A): it takes more time to load data after the switch in internet providers.\n",
    "\n",
    "> True positive: it takes more time to load data after the switch in internet providers\n",
    "\n",
    "> True negative: the amount of time it takes to load data has gone down or not been affected by the switch in internet providers\n",
    "\n",
    "> Type I error: We say there is no relationship, even though latency has decreased\n",
    "\n",
    "> Type II error: the network latency has increased, but we say the internet provider is independent "
   ]
  },
  {
   "cell_type": "markdown",
   "id": "1b3a4203",
   "metadata": {},
   "source": [
    "#### notes:\n",
    " - type one error: latency did not go up, but we say that it did\n",
    " - type two error: saying latency has not gone up, but it has"
   ]
  },
  {
   "cell_type": "markdown",
   "id": "f61cfd01",
   "metadata": {},
   "source": [
    "### Is the website redesign any good?\n",
    "> assuming people will spend more time on a website that is user friendly: \n",
    "> time spent on website(numeric), website redesign (boolean, before or after)\n",
    "> is there an increase in time spent on the website since the redesign? \n",
    "\n",
    "- H_(0): The averge time spent on the redesign has either decreased or remained the same since the redesign\n",
    "- H_(A): The average time users spend on the website has increased since the redesign.\n",
    "\n",
    "> True positive: The averge time users spend on the website has increased and we conclude that the redesign is good\n",
    "\n",
    "> True negative: The average time users spend on the website has decreased or remained the same and we conclude the redesgign is no good. \n",
    "\n",
    "> Type I error: The average time users spend on the website has decreased or remained the same and we conclude the redesgign is good. \n",
    "\n",
    "> Type II error: The averge time users spend on the website has increased and we conclude that the redesign is no good"
   ]
  },
  {
   "cell_type": "markdown",
   "id": "bc48d5f8",
   "metadata": {},
   "source": [
    "#### notes:"
   ]
  },
  {
   "cell_type": "markdown",
   "id": "df70b031",
   "metadata": {},
   "source": [
    "### Is our television ad driving more sales?\n",
    "> assuming exposure to the add will increase sales\n",
    "> continnuous vs. continuous, we are testing for positive linear correlation\n",
    "\n",
    "- H_(0): there is no relationship at all between ad exposure and sales or there is a negative linear relationship between ad exposure and likelihood to make a purchase\n",
    "- H_(A): our television ad is driving more sales, the more someone sees it the more likely they are to make a purchase\n",
    "\n",
    "\n",
    "> True positive: post-ad sales are higher than pre-ad sales, we will keep the ad. \n",
    "\n",
    "> True negative: we accept the pre-ad sales are greater than the post-ad sales, we change or remove the ad. \n",
    "\n",
    "> Type I error: there is a negative linear relationship bewteen exposure to our ad and liklihood to make a purchase, but we will continue exposure because we are stubborn and the boss likes it.\n",
    "\n",
    "> Type II error: our amazing tv ad is working to increase sales but we are going to chnage it anyways."
   ]
  },
  {
   "cell_type": "markdown",
   "id": "fd37e688",
   "metadata": {},
   "source": [
    "#### notes:"
   ]
  },
  {
   "cell_type": "markdown",
   "id": "cc8b6e56",
   "metadata": {},
   "source": [
    "# Exercises "
   ]
  },
  {
   "cell_type": "markdown",
   "id": "3003e64c",
   "metadata": {},
   "source": [
    "## 1: Answer with the type of test you would use (assume normal distribution):"
   ]
  },
  {
   "cell_type": "markdown",
   "id": "36c1b54e",
   "metadata": {},
   "source": [
    "#Is there a difference in grades of students on the second floor compared to grades of all students?\n",
    " - i would conduct a one sample t-test\n",
    "\n",
    "#Are adults who drink milk taller than adults who dont drink milk?\n",
    "- independent t-test\n",
    "\n",
    "#Is the the price of gas higher in texas or in new mexico?\n",
    "- independent t-test\n",
    "\n",
    "#Are there differences in stress levels between students who take data science vs students who take web development vs students who take cloud academy?\n",
    "- ANOVA"
   ]
  },
  {
   "cell_type": "markdown",
   "id": "2e223c74",
   "metadata": {},
   "source": [
    "A sample of 40 sales from office #1 revealed a mean of 90 days and a standard deviation of 15 days. A sample of 50 sales from office #2 revealed a mean of 100 days and a standard deviation of 20 days. Use a .05 level of significance. we are testing for a difference in time."
   ]
  },
  {
   "cell_type": "code",
   "execution_count": 27,
   "id": "b3b20e1a",
   "metadata": {},
   "outputs": [],
   "source": [
    "# pyplot for plotting\n",
    "import matplotlib.pyplot as plt\n",
    "# numpy for vectorized array operations\n",
    "import numpy as np\n",
    "# pandas for proper tabular manipulation\n",
    "import pandas as pd\n",
    "# scipy stats for our subversions\n",
    "from scipy import stats\n",
    "from pydataset import data"
   ]
  },
  {
   "cell_type": "code",
   "execution_count": null,
   "id": "5ac03b7f",
   "metadata": {},
   "outputs": [],
   "source": [
    "# H_0: there is no difference in the amount of time each office takes to sell a house\n",
    "# H_a : there is significant difference in the amount of time it takes the offices to sell houses"
   ]
  },
  {
   "cell_type": "code",
   "execution_count": 18,
   "id": "3f260ee5",
   "metadata": {},
   "outputs": [],
   "source": [
    "alpha = 0.05"
   ]
  },
  {
   "cell_type": "code",
   "execution_count": 4,
   "id": "54c8a26c",
   "metadata": {},
   "outputs": [],
   "source": [
    "O1_mu = 90\n",
    "O1_sigma = 15"
   ]
  },
  {
   "cell_type": "code",
   "execution_count": 7,
   "id": "96bce472",
   "metadata": {},
   "outputs": [],
   "source": [
    "O1_sales = stats.norm(O1_mu, O1_sigma)"
   ]
  },
  {
   "cell_type": "code",
   "execution_count": 11,
   "id": "45bf9395",
   "metadata": {},
   "outputs": [],
   "source": [
    "O1_sales_array = O1_sales.rvs(40)"
   ]
  },
  {
   "cell_type": "code",
   "execution_count": 12,
   "id": "b1662625",
   "metadata": {},
   "outputs": [],
   "source": [
    "O2_mu = 100\n",
    "O2_sigma = 20\n",
    "O2_sales = stats.norm(O2_mu, O2_sigma)"
   ]
  },
  {
   "cell_type": "code",
   "execution_count": 13,
   "id": "e53c63ff",
   "metadata": {},
   "outputs": [],
   "source": [
    "O2_sales_array = O2_sales.rvs(50)"
   ]
  },
  {
   "cell_type": "code",
   "execution_count": 14,
   "id": "edaaad37",
   "metadata": {},
   "outputs": [
    {
     "name": "stdout",
     "output_type": "stream",
     "text": [
      "235.2903370449606\n",
      "429.400545236213\n"
     ]
    }
   ],
   "source": [
    "print(O1_sales_array.var())\n",
    "print(O2_sales_array.var())"
   ]
  },
  {
   "cell_type": "code",
   "execution_count": 15,
   "id": "9d787f30",
   "metadata": {},
   "outputs": [],
   "source": [
    "t, p = stats.ttest_ind(O1_sales_array, O2_sales_array, equal_var = False)"
   ]
  },
  {
   "cell_type": "code",
   "execution_count": 16,
   "id": "dee24df6",
   "metadata": {},
   "outputs": [
    {
     "data": {
      "text/plain": [
       "(-1.7790599603429762, 0.07870044988755845)"
      ]
     },
     "execution_count": 16,
     "metadata": {},
     "output_type": "execute_result"
    }
   ],
   "source": [
    "t, p"
   ]
  },
  {
   "cell_type": "code",
   "execution_count": 20,
   "id": "36ce17fa",
   "metadata": {},
   "outputs": [
    {
     "name": "stdout",
     "output_type": "stream",
     "text": [
      "Reject $H_{0}$?  False\n"
     ]
    }
   ],
   "source": [
    "print(\"Reject $H_{0}$? \", p < alpha)"
   ]
  },
  {
   "cell_type": "markdown",
   "id": "66d4fcf6",
   "metadata": {},
   "source": [
    "## Exercise 3"
   ]
  },
  {
   "cell_type": "code",
   "execution_count": 28,
   "id": "66dec989",
   "metadata": {},
   "outputs": [],
   "source": [
    "mpg = data('mpg')"
   ]
  },
  {
   "cell_type": "code",
   "execution_count": 29,
   "id": "615bbd60",
   "metadata": {},
   "outputs": [
    {
     "data": {
      "text/html": [
       "<div>\n",
       "<style scoped>\n",
       "    .dataframe tbody tr th:only-of-type {\n",
       "        vertical-align: middle;\n",
       "    }\n",
       "\n",
       "    .dataframe tbody tr th {\n",
       "        vertical-align: top;\n",
       "    }\n",
       "\n",
       "    .dataframe thead th {\n",
       "        text-align: right;\n",
       "    }\n",
       "</style>\n",
       "<table border=\"1\" class=\"dataframe\">\n",
       "  <thead>\n",
       "    <tr style=\"text-align: right;\">\n",
       "      <th></th>\n",
       "      <th>manufacturer</th>\n",
       "      <th>model</th>\n",
       "      <th>displ</th>\n",
       "      <th>year</th>\n",
       "      <th>cyl</th>\n",
       "      <th>trans</th>\n",
       "      <th>drv</th>\n",
       "      <th>cty</th>\n",
       "      <th>hwy</th>\n",
       "      <th>fl</th>\n",
       "      <th>class</th>\n",
       "    </tr>\n",
       "  </thead>\n",
       "  <tbody>\n",
       "    <tr>\n",
       "      <th>1</th>\n",
       "      <td>audi</td>\n",
       "      <td>a4</td>\n",
       "      <td>1.8</td>\n",
       "      <td>1999</td>\n",
       "      <td>4</td>\n",
       "      <td>auto(l5)</td>\n",
       "      <td>f</td>\n",
       "      <td>18</td>\n",
       "      <td>29</td>\n",
       "      <td>p</td>\n",
       "      <td>compact</td>\n",
       "    </tr>\n",
       "    <tr>\n",
       "      <th>2</th>\n",
       "      <td>audi</td>\n",
       "      <td>a4</td>\n",
       "      <td>1.8</td>\n",
       "      <td>1999</td>\n",
       "      <td>4</td>\n",
       "      <td>manual(m5)</td>\n",
       "      <td>f</td>\n",
       "      <td>21</td>\n",
       "      <td>29</td>\n",
       "      <td>p</td>\n",
       "      <td>compact</td>\n",
       "    </tr>\n",
       "    <tr>\n",
       "      <th>3</th>\n",
       "      <td>audi</td>\n",
       "      <td>a4</td>\n",
       "      <td>2.0</td>\n",
       "      <td>2008</td>\n",
       "      <td>4</td>\n",
       "      <td>manual(m6)</td>\n",
       "      <td>f</td>\n",
       "      <td>20</td>\n",
       "      <td>31</td>\n",
       "      <td>p</td>\n",
       "      <td>compact</td>\n",
       "    </tr>\n",
       "    <tr>\n",
       "      <th>4</th>\n",
       "      <td>audi</td>\n",
       "      <td>a4</td>\n",
       "      <td>2.0</td>\n",
       "      <td>2008</td>\n",
       "      <td>4</td>\n",
       "      <td>auto(av)</td>\n",
       "      <td>f</td>\n",
       "      <td>21</td>\n",
       "      <td>30</td>\n",
       "      <td>p</td>\n",
       "      <td>compact</td>\n",
       "    </tr>\n",
       "    <tr>\n",
       "      <th>5</th>\n",
       "      <td>audi</td>\n",
       "      <td>a4</td>\n",
       "      <td>2.8</td>\n",
       "      <td>1999</td>\n",
       "      <td>6</td>\n",
       "      <td>auto(l5)</td>\n",
       "      <td>f</td>\n",
       "      <td>16</td>\n",
       "      <td>26</td>\n",
       "      <td>p</td>\n",
       "      <td>compact</td>\n",
       "    </tr>\n",
       "  </tbody>\n",
       "</table>\n",
       "</div>"
      ],
      "text/plain": [
       "  manufacturer model  displ  year  cyl       trans drv  cty  hwy fl    class\n",
       "1         audi    a4    1.8  1999    4    auto(l5)   f   18   29  p  compact\n",
       "2         audi    a4    1.8  1999    4  manual(m5)   f   21   29  p  compact\n",
       "3         audi    a4    2.0  2008    4  manual(m6)   f   20   31  p  compact\n",
       "4         audi    a4    2.0  2008    4    auto(av)   f   21   30  p  compact\n",
       "5         audi    a4    2.8  1999    6    auto(l5)   f   16   26  p  compact"
      ]
     },
     "execution_count": 29,
     "metadata": {},
     "output_type": "execute_result"
    }
   ],
   "source": [
    "mpg.head()"
   ]
  },
  {
   "cell_type": "markdown",
   "id": "ce0d0e36",
   "metadata": {},
   "source": [
    "#### Is there a difference in fuel-efficiency in cars from 2008 vs 1999?"
   ]
  },
  {
   "cell_type": "code",
   "execution_count": 37,
   "id": "364fa938",
   "metadata": {},
   "outputs": [],
   "source": [
    "# A Plot distribution\n",
    "mpg['fuel_efficiency'] = (mpg.cty + mpg.hwy) /2 "
   ]
  },
  {
   "cell_type": "code",
   "execution_count": 38,
   "id": "d492c30e",
   "metadata": {},
   "outputs": [
    {
     "data": {
      "text/html": [
       "<div>\n",
       "<style scoped>\n",
       "    .dataframe tbody tr th:only-of-type {\n",
       "        vertical-align: middle;\n",
       "    }\n",
       "\n",
       "    .dataframe tbody tr th {\n",
       "        vertical-align: top;\n",
       "    }\n",
       "\n",
       "    .dataframe thead th {\n",
       "        text-align: right;\n",
       "    }\n",
       "</style>\n",
       "<table border=\"1\" class=\"dataframe\">\n",
       "  <thead>\n",
       "    <tr style=\"text-align: right;\">\n",
       "      <th></th>\n",
       "      <th>manufacturer</th>\n",
       "      <th>model</th>\n",
       "      <th>displ</th>\n",
       "      <th>year</th>\n",
       "      <th>cyl</th>\n",
       "      <th>trans</th>\n",
       "      <th>drv</th>\n",
       "      <th>cty</th>\n",
       "      <th>hwy</th>\n",
       "      <th>fl</th>\n",
       "      <th>class</th>\n",
       "      <th>fule_efficiency</th>\n",
       "      <th>fuel_efficiency</th>\n",
       "    </tr>\n",
       "  </thead>\n",
       "  <tbody>\n",
       "    <tr>\n",
       "      <th>1</th>\n",
       "      <td>audi</td>\n",
       "      <td>a4</td>\n",
       "      <td>1.8</td>\n",
       "      <td>1999</td>\n",
       "      <td>4</td>\n",
       "      <td>auto(l5)</td>\n",
       "      <td>f</td>\n",
       "      <td>18</td>\n",
       "      <td>29</td>\n",
       "      <td>p</td>\n",
       "      <td>compact</td>\n",
       "      <td>23.5</td>\n",
       "      <td>23.5</td>\n",
       "    </tr>\n",
       "    <tr>\n",
       "      <th>2</th>\n",
       "      <td>audi</td>\n",
       "      <td>a4</td>\n",
       "      <td>1.8</td>\n",
       "      <td>1999</td>\n",
       "      <td>4</td>\n",
       "      <td>manual(m5)</td>\n",
       "      <td>f</td>\n",
       "      <td>21</td>\n",
       "      <td>29</td>\n",
       "      <td>p</td>\n",
       "      <td>compact</td>\n",
       "      <td>25.0</td>\n",
       "      <td>25.0</td>\n",
       "    </tr>\n",
       "    <tr>\n",
       "      <th>3</th>\n",
       "      <td>audi</td>\n",
       "      <td>a4</td>\n",
       "      <td>2.0</td>\n",
       "      <td>2008</td>\n",
       "      <td>4</td>\n",
       "      <td>manual(m6)</td>\n",
       "      <td>f</td>\n",
       "      <td>20</td>\n",
       "      <td>31</td>\n",
       "      <td>p</td>\n",
       "      <td>compact</td>\n",
       "      <td>25.5</td>\n",
       "      <td>25.5</td>\n",
       "    </tr>\n",
       "    <tr>\n",
       "      <th>4</th>\n",
       "      <td>audi</td>\n",
       "      <td>a4</td>\n",
       "      <td>2.0</td>\n",
       "      <td>2008</td>\n",
       "      <td>4</td>\n",
       "      <td>auto(av)</td>\n",
       "      <td>f</td>\n",
       "      <td>21</td>\n",
       "      <td>30</td>\n",
       "      <td>p</td>\n",
       "      <td>compact</td>\n",
       "      <td>25.5</td>\n",
       "      <td>25.5</td>\n",
       "    </tr>\n",
       "    <tr>\n",
       "      <th>5</th>\n",
       "      <td>audi</td>\n",
       "      <td>a4</td>\n",
       "      <td>2.8</td>\n",
       "      <td>1999</td>\n",
       "      <td>6</td>\n",
       "      <td>auto(l5)</td>\n",
       "      <td>f</td>\n",
       "      <td>16</td>\n",
       "      <td>26</td>\n",
       "      <td>p</td>\n",
       "      <td>compact</td>\n",
       "      <td>21.0</td>\n",
       "      <td>21.0</td>\n",
       "    </tr>\n",
       "  </tbody>\n",
       "</table>\n",
       "</div>"
      ],
      "text/plain": [
       "  manufacturer model  displ  year  cyl       trans drv  cty  hwy fl    class  \\\n",
       "1         audi    a4    1.8  1999    4    auto(l5)   f   18   29  p  compact   \n",
       "2         audi    a4    1.8  1999    4  manual(m5)   f   21   29  p  compact   \n",
       "3         audi    a4    2.0  2008    4  manual(m6)   f   20   31  p  compact   \n",
       "4         audi    a4    2.0  2008    4    auto(av)   f   21   30  p  compact   \n",
       "5         audi    a4    2.8  1999    6    auto(l5)   f   16   26  p  compact   \n",
       "\n",
       "   fule_efficiency  fuel_efficiency  \n",
       "1             23.5             23.5  \n",
       "2             25.0             25.0  \n",
       "3             25.5             25.5  \n",
       "4             25.5             25.5  \n",
       "5             21.0             21.0  "
      ]
     },
     "execution_count": 38,
     "metadata": {},
     "output_type": "execute_result"
    }
   ],
   "source": [
    "mpg.head()"
   ]
  },
  {
   "cell_type": "code",
   "execution_count": 41,
   "id": "636893be",
   "metadata": {},
   "outputs": [
    {
     "data": {
      "image/png": "[encoded data removed]",
      "text/plain": [
       "<Figure size 432x288 with 1 Axes>"
      ]
     },
     "metadata": {
      "needs_background": "light"
     },
     "output_type": "display_data"
    }
   ],
   "source": [
    "mpg[mpg.year == '1999'].fuel_efficiency.hist()\n",
    "plt.show()"
   ]
  },
  {
   "cell_type": "code",
   "execution_count": 42,
   "id": "1e87cde7",
   "metadata": {},
   "outputs": [
    {
     "ename": "TypeError",
     "evalue": "'Series' object is not callable",
     "output_type": "error",
     "traceback": [
      "\u001b[0;31m---------------------------------------------------------------------------\u001b[0m",
      "\u001b[0;31mTypeError\u001b[0m                                 Traceback (most recent call last)",
      "Input \u001b[0;32mIn [42]\u001b[0m, in \u001b[0;36m<cell line: 1>\u001b[0;34m()\u001b[0m\n\u001b[0;32m----> 1\u001b[0m cars_99 \u001b[38;5;241m=\u001b[39m \u001b[43mmpg\u001b[49m\u001b[43m[\u001b[49m\u001b[43mmpg\u001b[49m\u001b[38;5;241;43m.\u001b[39;49m\u001b[43myear\u001b[49m\u001b[43m \u001b[49m\u001b[38;5;241;43m==\u001b[39;49m\u001b[43m \u001b[49m\u001b[38;5;124;43m'\u001b[39;49m\u001b[38;5;124;43m1999\u001b[39;49m\u001b[38;5;124;43m'\u001b[39;49m\u001b[43m]\u001b[49m\u001b[38;5;241;43m.\u001b[39;49m\u001b[43mfuel_efficiency\u001b[49m\u001b[43m(\u001b[49m\u001b[43m)\u001b[49m\n\u001b[1;32m      2\u001b[0m cars_08 \u001b[38;5;241m=\u001b[39m mpg[mpg\u001b[38;5;241m.\u001b[39myear \u001b[38;5;241m==\u001b[39m \u001b[38;5;124m'\u001b[39m\u001b[38;5;124m2008\u001b[39m\u001b[38;5;124m'\u001b[39m]\u001b[38;5;241m.\u001b[39mfuel_efficiency()\n",
      "\u001b[0;31mTypeError\u001b[0m: 'Series' object is not callable"
     ]
    }
   ],
   "source": [
    "cars_99 = mpg[mpg.year == '1999'].fuel_efficiency()\n",
    "cars_08 = mpg[mpg.year == '2008'].fuel_efficiency()"
   ]
  },
  {
   "cell_type": "code",
   "execution_count": null,
   "id": "17f8f6f7",
   "metadata": {},
   "outputs": [],
   "source": []
  }
 ],
 "metadata": {
  "kernelspec": {
   "display_name": "Python 3 (ipykernel)",
   "language": "python",
   "name": "python3"
  },
  "language_info": {
   "codemirror_mode": {
    "name": "ipython",
    "version": 3
   },
   "file_extension": ".py",
   "mimetype": "text/x-python",
   "name": "python",
   "nbconvert_exporter": "python",
   "pygments_lexer": "ipython3",
   "version": "3.9.12"
  }
 },
 "nbformat": 4,
 "nbformat_minor": 5
}
