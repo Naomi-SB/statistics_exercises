{
 "cells": [
  {
   "cell_type": "markdown",
   "id": "431dd543",
   "metadata": {},
   "source": [
    "### Answer with the type of stats test you would use (assume normal distribution):"
   ]
  },
  {
   "cell_type": "markdown",
   "id": "702b095c",
   "metadata": {},
   "source": [
    " 1) Is there a relationship between the length of your arm and the length of your foot?\n",
    " - correlation test\n",
    " \n",
    " 2) Do guys and gals quit their jobs at the same rate?\n",
    " - two sample, two tail t-test\n",
    " \n",
    " 3) Does the length of time of the lecture correlate with a students grade?\n",
    " - correlation test"
   ]
  },
  {
   "cell_type": "code",
   "execution_count": null,
   "id": "5d7c1e9c",
   "metadata": {},
   "outputs": [],
   "source": [
    "import pandas as pd\n",
    "import numpy as np\n",
    "import matplotlib.pyplot as plt\n",
    "import seaborn as sns\n",
    "\n",
    "from math import sqrt\n",
    "\n",
    "from scipy import stats\n",
    "from pydataset import data\n",
    "\n",
    "import env"
   ]
  },
  {
   "cell_type": "code",
   "execution_count": null,
   "id": "cd807ac8",
   "metadata": {},
   "outputs": [],
   "source": [
    "db_url = f'mysql+pymysql://{env.user}:{env.password}@{env.host}/telco_churn'\n",
    "df = pd.read_sql('SELECT * FROM customers', db_url)  "
   ]
  },
  {
   "cell_type": "code",
   "execution_count": null,
   "id": "7c825b6c",
   "metadata": {},
   "outputs": [],
   "source": [
    "df.head()"
   ]
  },
  {
   "cell_type": "markdown",
   "id": "9d7c3e35",
   "metadata": {},
   "source": [
    "##### Does tenure correlate with monthly charges?\n"
   ]
  },
  {
   "cell_type": "code",
   "execution_count": null,
   "id": "dcb3f076",
   "metadata": {},
   "outputs": [],
   "source": [
    "tenure_years = df.tenure\n",
    "monthly_charges = df.monthly_charges"
   ]
  },
  {
   "cell_type": "code",
   "execution_count": null,
   "id": "ae98241c",
   "metadata": {},
   "outputs": [],
   "source": [
    "tenure_years"
   ]
  },
  {
   "cell_type": "code",
   "execution_count": null,
   "id": "66866792",
   "metadata": {},
   "outputs": [],
   "source": [
    "monthly_charges"
   ]
  },
  {
   "cell_type": "code",
   "execution_count": null,
   "id": "87b47750",
   "metadata": {},
   "outputs": [],
   "source": [
    "alpha = 0.05\n",
    "corr, p = stats.pearsonr(tenure_years, monthly_charges)\n",
    "corr, p"
   ]
  },
  {
   "cell_type": "code",
   "execution_count": null,
   "id": "966270da",
   "metadata": {},
   "outputs": [],
   "source": [
    "if p < alpha:\n",
    "    print(\"Reject the null hypothesis\")\n",
    "else:\n",
    "    print(\"Fail to reject the null hypothesis\")"
   ]
  },
  {
   "cell_type": "code",
   "execution_count": null,
   "id": "deecb50a",
   "metadata": {
    "scrolled": true
   },
   "outputs": [],
   "source": [
    "plt.scatter(x=tenure_years, y=monthly_charges)"
   ]
  },
  {
   "cell_type": "code",
   "execution_count": null,
   "id": "85d49da1",
   "metadata": {},
   "outputs": [],
   "source": [
    "# yes, there is a moderatly positive correlation between tenure years and monthly charges. "
   ]
  },
  {
   "cell_type": "markdown",
   "id": "99d7c92e",
   "metadata": {},
   "source": [
    "#### Does tenure correlate with Total charges?"
   ]
  },
  {
   "cell_type": "code",
   "execution_count": null,
   "id": "a75cacd3",
   "metadata": {},
   "outputs": [],
   "source": [
    "df.info()"
   ]
  },
  {
   "cell_type": "code",
   "execution_count": null,
   "id": "1bc72f4a",
   "metadata": {},
   "outputs": [],
   "source": [
    "df['rough_total_charges'] = (df.tenure * df.monthly_charges)"
   ]
  },
  {
   "cell_type": "code",
   "execution_count": null,
   "id": "7994ea57",
   "metadata": {},
   "outputs": [],
   "source": [
    "df.head()"
   ]
  },
  {
   "cell_type": "code",
   "execution_count": null,
   "id": "c8745b9c",
   "metadata": {},
   "outputs": [],
   "source": [
    "rough_total_charges = df.rough_total_charges\n",
    "corr, p = stats.pearsonr(tenure_years, rough_total_charges)\n",
    "corr, p"
   ]
  },
  {
   "cell_type": "code",
   "execution_count": null,
   "id": "8f7de4f3",
   "metadata": {},
   "outputs": [],
   "source": [
    "plt.scatter(x=tenure_years, y=rough_total_charges)"
   ]
  },
  {
   "cell_type": "code",
   "execution_count": null,
   "id": "70c5df08",
   "metadata": {},
   "outputs": [],
   "source": [
    "df.head()"
   ]
  },
  {
   "cell_type": "markdown",
   "id": "d23079dc",
   "metadata": {},
   "source": [
    "#### What happens if you control for phone and internet service?\n"
   ]
  },
  {
   "cell_type": "markdown",
   "id": "b841cbe0",
   "metadata": {},
   "source": [
    "#### Above code would not run ^^"
   ]
  },
  {
   "cell_type": "code",
   "execution_count": null,
   "id": "8c1181f1",
   "metadata": {},
   "outputs": [],
   "source": [
    "sns.relplot(data=df, x=tenure_years, y = rough_total_charges, col = 'phone_service')"
   ]
  },
  {
   "cell_type": "code",
   "execution_count": null,
   "id": "bf88112a",
   "metadata": {},
   "outputs": [],
   "source": [
    "sns.relplot(data=df, x=tenure_years, y = rough_total_charges, col = 'internet_service_type_id')"
   ]
  },
  {
   "cell_type": "markdown",
   "id": "6fed2e4a",
   "metadata": {},
   "source": [
    "## Correction for Number 2.b (supposedly, i coulnd't run it)\n",
    "\n",
    "def corr_tenure_and_monthly(df):\n",
    "    return pd.Series(stats.pearsonsr(df.tenure, df.monthly_charges), index = ['r', 'p'])\n",
    "   \n",
    "df.groupby(['internet_service_type_id', 'phone_service']).apply(corr_tenure_and_monthly)"
   ]
  },
  {
   "cell_type": "markdown",
   "id": "aead554d",
   "metadata": {},
   "source": [
    "## Three: use the employees database"
   ]
  },
  {
   "cell_type": "markdown",
   "id": "7bc9a937",
   "metadata": {},
   "source": [
    "#### Is there a relationship between how long an employee has been with the company and their salary?"
   ]
  },
  {
   "cell_type": "code",
   "execution_count": null,
   "id": "5c2cf4da",
   "metadata": {},
   "outputs": [],
   "source": [
    "db_url = f'mysql+pymysql://{env.user}:{env.password}@{env.host}/employees'\n",
    "df = pd.read_sql('SELECT * FROM salaries', db_url)  "
   ]
  },
  {
   "cell_type": "code",
   "execution_count": null,
   "id": "e987a045",
   "metadata": {},
   "outputs": [],
   "source": [
    "df.head()"
   ]
  },
  {
   "cell_type": "code",
   "execution_count": null,
   "id": "1ab389b5",
   "metadata": {},
   "outputs": [],
   "source": [
    "df.info()"
   ]
  },
  {
   "cell_type": "code",
   "execution_count": null,
   "id": "d07b5ce2",
   "metadata": {},
   "outputs": [],
   "source": [
    "df['time_employed'] = (df.to_date - df.from_date)"
   ]
  },
  {
   "cell_type": "code",
   "execution_count": null,
   "id": "d7432946",
   "metadata": {},
   "outputs": [],
   "source": [
    "df.head()"
   ]
  },
  {
   "cell_type": "code",
   "execution_count": null,
   "id": "ec43be84",
   "metadata": {},
   "outputs": [],
   "source": [
    "df.sort_values(by=['time_employed'])"
   ]
  },
  {
   "cell_type": "code",
   "execution_count": null,
   "id": "0b2444a3",
   "metadata": {},
   "outputs": [],
   "source": [
    "df['time_employed_float'] = df.time_employed.total_seconds()"
   ]
  },
  {
   "cell_type": "code",
   "execution_count": null,
   "id": "2c566935",
   "metadata": {},
   "outputs": [],
   "source": [
    "df.salary.mean()"
   ]
  },
  {
   "cell_type": "code",
   "execution_count": null,
   "id": "36d51b54",
   "metadata": {},
   "outputs": [],
   "source": [
    "import datetime\n",
    "current_date = datetime.datetime.now()\n",
    "print(\"Date and Time in Integer Format:\",\n",
    "      int(current_date.strftime(\"%Y%m%d\")))\n"
   ]
  },
  {
   "cell_type": "code",
   "execution_count": null,
   "id": "90c09250",
   "metadata": {},
   "outputs": [],
   "source": [
    "stats.pearsonr(employees_with_salaries.tenure, employees_with_salaries.salary)\n"
   ]
  },
  {
   "cell_type": "code",
   "execution_count": null,
   "id": "8b03f8a9",
   "metadata": {},
   "outputs": [],
   "source": [
    "sns.relplot(data=employees_with_salaries, y='salary', x='tenure')\n"
   ]
  },
  {
   "cell_type": "code",
   "execution_count": null,
   "id": "51bd85df",
   "metadata": {},
   "outputs": [],
   "source": [
    "#Is there a relationship between how long an employee has been \n",
    "#with the company and the number of titles they have had?\n",
    "query = '''\n",
    "SELECT\n",
    "    e.emp_no,\n",
    "    DATEDIFF((SELECT MAX(hire_date) FROM employees), e.hire_date) AS tenure,\n",
    "    n_titles\n",
    "FROM employees e\n",
    "JOIN (\n",
    "    SELECT emp_no, COUNT(*) as n_titles\n",
    "    FROM employees e\n",
    "    JOIN titles t USING (emp_no)\n",
    "    GROUP BY emp_no\n",
    ") emp_title_count USING (emp_no)\n",
    "'''"
   ]
  },
  {
   "cell_type": "code",
   "execution_count": null,
   "id": "d97dc071",
   "metadata": {},
   "outputs": [],
   "source": [
    "employees_with_titles = pd.read_sql(query, url)\n"
   ]
  },
  {
   "cell_type": "code",
   "execution_count": null,
   "id": "c91f3887",
   "metadata": {},
   "outputs": [],
   "source": [
    "stats.pearsonr(employees_with_titles.tenure, employees_with_titles.n_titles)\n"
   ]
  },
  {
   "cell_type": "markdown",
   "id": "72344505",
   "metadata": {},
   "source": [
    "### Sleep Study"
   ]
  },
  {
   "cell_type": "code",
   "execution_count": null,
   "id": "0f4a0949",
   "metadata": {},
   "outputs": [],
   "source": [
    "pydataset.data('sleepstudy', show_doc=True)\n"
   ]
  },
  {
   "cell_type": "code",
   "execution_count": null,
   "id": "98991af5",
   "metadata": {},
   "outputs": [],
   "source": [
    "sleep = pydataset.data('sleepstudy')\n",
    "sleep.head()"
   ]
  },
  {
   "cell_type": "code",
   "execution_count": null,
   "id": "f2f768de",
   "metadata": {},
   "outputs": [],
   "source": [
    "stats.pearsonr(sleep.Reaction, sleep.Days) # We reject the null hypothesis\n"
   ]
  },
  {
   "cell_type": "code",
   "execution_count": null,
   "id": "0be4afc4",
   "metadata": {},
   "outputs": [],
   "source": [
    "sns.lmplot(data=sleep, y='Reaction', x='Days')\n"
   ]
  }
 ],
 "metadata": {
  "kernelspec": {
   "display_name": "Python 3 (ipykernel)",
   "language": "python",
   "name": "python3"
  },
  "language_info": {
   "codemirror_mode": {
    "name": "ipython",
    "version": 3
   },
   "file_extension": ".py",
   "mimetype": "text/x-python",
   "name": "python",
   "nbconvert_exporter": "python",
   "pygments_lexer": "ipython3",
   "version": "3.9.12"
  }
 },
 "nbformat": 4,
 "nbformat_minor": 5
}
