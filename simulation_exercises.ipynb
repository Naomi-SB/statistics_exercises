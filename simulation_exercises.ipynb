{
 "cells": [
  {
   "cell_type": "code",
   "execution_count": 2,
   "id": "bb89a38e",
   "metadata": {},
   "outputs": [],
   "source": [
    "import numpy as np\n",
    "import pandas as pd\n",
    "import matplotlib.pyplot as plt\n",
    "%config InlineBackend.figure_format = 'retina'\n",
    "import viz # curriculum example visualizations\n",
    "\n",
    "np.random.seed(38)"
   ]
  },
  {
   "cell_type": "code",
   "execution_count": 3,
   "id": "0465e7b4",
   "metadata": {},
   "outputs": [
    {
     "data": {
      "text/plain": [
       "array([[2, 4],\n",
       "       [6, 4],\n",
       "       [5, 5],\n",
       "       ...,\n",
       "       [2, 6],\n",
       "       [5, 5],\n",
       "       [5, 3]])"
      ]
     },
     "execution_count": 3,
     "metadata": {},
     "output_type": "execute_result"
    }
   ],
   "source": [
    "#How likely is it that you roll doubles when rolling two dice?\n",
    "# Assumptions: I roll two dice simultaneously, what is the likelyhood they are the same?\n",
    "# NOT: roll die A, what is the likelyhood die B matches?\n",
    "n_trials = nrows = 10_000\n",
    "n_dice = ncols = 2\n",
    "\n",
    "rolls = np.random.choice([1, 2, 3, 4, 5, 6], size = (n_trials, n_dice))\n",
    "rolls"
   ]
  },
  {
   "cell_type": "code",
   "execution_count": 4,
   "id": "ade1810a",
   "metadata": {},
   "outputs": [
    {
     "data": {
      "text/html": [
       "<div>\n",
       "<style scoped>\n",
       "    .dataframe tbody tr th:only-of-type {\n",
       "        vertical-align: middle;\n",
       "    }\n",
       "\n",
       "    .dataframe tbody tr th {\n",
       "        vertical-align: top;\n",
       "    }\n",
       "\n",
       "    .dataframe thead th {\n",
       "        text-align: right;\n",
       "    }\n",
       "</style>\n",
       "<table border=\"1\" class=\"dataframe\">\n",
       "  <thead>\n",
       "    <tr style=\"text-align: right;\">\n",
       "      <th></th>\n",
       "      <th>roll_1</th>\n",
       "      <th>roll_2</th>\n",
       "    </tr>\n",
       "  </thead>\n",
       "  <tbody>\n",
       "    <tr>\n",
       "      <th>0</th>\n",
       "      <td>2</td>\n",
       "      <td>4</td>\n",
       "    </tr>\n",
       "    <tr>\n",
       "      <th>1</th>\n",
       "      <td>6</td>\n",
       "      <td>4</td>\n",
       "    </tr>\n",
       "    <tr>\n",
       "      <th>2</th>\n",
       "      <td>5</td>\n",
       "      <td>5</td>\n",
       "    </tr>\n",
       "    <tr>\n",
       "      <th>3</th>\n",
       "      <td>3</td>\n",
       "      <td>2</td>\n",
       "    </tr>\n",
       "    <tr>\n",
       "      <th>4</th>\n",
       "      <td>2</td>\n",
       "      <td>5</td>\n",
       "    </tr>\n",
       "  </tbody>\n",
       "</table>\n",
       "</div>"
      ],
      "text/plain": [
       "   roll_1  roll_2\n",
       "0       2       4\n",
       "1       6       4\n",
       "2       5       5\n",
       "3       3       2\n",
       "4       2       5"
      ]
     },
     "execution_count": 4,
     "metadata": {},
     "output_type": "execute_result"
    }
   ],
   "source": [
    "rolls_df = pd.DataFrame(rolls, columns=['roll_1', 'roll_2',])\n",
    "rolls_df.head()"
   ]
  },
  {
   "cell_type": "code",
   "execution_count": 5,
   "id": "cf6e4f25",
   "metadata": {},
   "outputs": [
    {
     "data": {
      "text/plain": [
       "0       False\n",
       "1       False\n",
       "2        True\n",
       "3       False\n",
       "4       False\n",
       "        ...  \n",
       "9995    False\n",
       "9996    False\n",
       "9997    False\n",
       "9998     True\n",
       "9999    False\n",
       "Length: 10000, dtype: bool"
      ]
     },
     "execution_count": 5,
     "metadata": {},
     "output_type": "execute_result"
    }
   ],
   "source": [
    "doubles = rolls_df.roll_1 == rolls_df.roll_2\n",
    "doubles"
   ]
  },
  {
   "cell_type": "code",
   "execution_count": 6,
   "id": "516b1f79",
   "metadata": {},
   "outputs": [
    {
     "data": {
      "text/plain": [
       "1623"
      ]
     },
     "execution_count": 6,
     "metadata": {},
     "output_type": "execute_result"
    }
   ],
   "source": [
    "sum(doubles)"
   ]
  },
  {
   "cell_type": "code",
   "execution_count": 7,
   "id": "c3d08ecd",
   "metadata": {},
   "outputs": [
    {
     "data": {
      "text/plain": [
       "16.23"
      ]
     },
     "execution_count": 7,
     "metadata": {},
     "output_type": "execute_result"
    }
   ],
   "source": [
    "# percent chance of rolling doubles\n",
    "sum(doubles)/len(rolls) * 100"
   ]
  },
  {
   "cell_type": "code",
   "execution_count": 8,
   "id": "56a269fc",
   "metadata": {},
   "outputs": [
    {
     "data": {
      "text/plain": [
       "array([[False, False, False, ..., False, False, False],\n",
       "       [ True,  True,  True, ..., False, False,  True],\n",
       "       [ True, False, False, ..., False,  True, False],\n",
       "       ...,\n",
       "       [False, False, False, ...,  True,  True,  True],\n",
       "       [False,  True, False, ..., False, False,  True],\n",
       "       [ True,  True,  True, ..., False,  True,  True]])"
      ]
     },
     "execution_count": 8,
     "metadata": {},
     "output_type": "execute_result"
    }
   ],
   "source": [
    "#2a If you flip 8 coins, what is the probability of getting exactly 3 heads? \n",
    "# NOT three in a row. \n",
    "# 3 heads, no more, no less\n",
    "n_trials = nrows = 10_000\n",
    "n_coins = ncols = 8\n",
    "\n",
    "flips = np.random.choice([True, False], size = (n_trials, n_coins))\n",
    "flips\n",
    "\n",
    "#heads = True\n",
    "# tails = False"
   ]
  },
  {
   "cell_type": "code",
   "execution_count": 9,
   "id": "a5132e3b",
   "metadata": {
    "scrolled": true
   },
   "outputs": [
    {
     "data": {
      "text/html": [
       "<div>\n",
       "<style scoped>\n",
       "    .dataframe tbody tr th:only-of-type {\n",
       "        vertical-align: middle;\n",
       "    }\n",
       "\n",
       "    .dataframe tbody tr th {\n",
       "        vertical-align: top;\n",
       "    }\n",
       "\n",
       "    .dataframe thead th {\n",
       "        text-align: right;\n",
       "    }\n",
       "</style>\n",
       "<table border=\"1\" class=\"dataframe\">\n",
       "  <thead>\n",
       "    <tr style=\"text-align: right;\">\n",
       "      <th></th>\n",
       "      <th>f1</th>\n",
       "      <th>f2</th>\n",
       "      <th>f3</th>\n",
       "      <th>f4</th>\n",
       "      <th>f5</th>\n",
       "      <th>f6</th>\n",
       "      <th>f7</th>\n",
       "      <th>f8</th>\n",
       "    </tr>\n",
       "  </thead>\n",
       "  <tbody>\n",
       "    <tr>\n",
       "      <th>0</th>\n",
       "      <td>False</td>\n",
       "      <td>False</td>\n",
       "      <td>False</td>\n",
       "      <td>False</td>\n",
       "      <td>False</td>\n",
       "      <td>False</td>\n",
       "      <td>False</td>\n",
       "      <td>False</td>\n",
       "    </tr>\n",
       "    <tr>\n",
       "      <th>1</th>\n",
       "      <td>True</td>\n",
       "      <td>True</td>\n",
       "      <td>True</td>\n",
       "      <td>False</td>\n",
       "      <td>True</td>\n",
       "      <td>False</td>\n",
       "      <td>False</td>\n",
       "      <td>True</td>\n",
       "    </tr>\n",
       "    <tr>\n",
       "      <th>2</th>\n",
       "      <td>True</td>\n",
       "      <td>False</td>\n",
       "      <td>False</td>\n",
       "      <td>True</td>\n",
       "      <td>True</td>\n",
       "      <td>False</td>\n",
       "      <td>True</td>\n",
       "      <td>False</td>\n",
       "    </tr>\n",
       "    <tr>\n",
       "      <th>3</th>\n",
       "      <td>False</td>\n",
       "      <td>False</td>\n",
       "      <td>True</td>\n",
       "      <td>True</td>\n",
       "      <td>True</td>\n",
       "      <td>False</td>\n",
       "      <td>True</td>\n",
       "      <td>True</td>\n",
       "    </tr>\n",
       "    <tr>\n",
       "      <th>4</th>\n",
       "      <td>True</td>\n",
       "      <td>False</td>\n",
       "      <td>False</td>\n",
       "      <td>True</td>\n",
       "      <td>True</td>\n",
       "      <td>True</td>\n",
       "      <td>True</td>\n",
       "      <td>False</td>\n",
       "    </tr>\n",
       "  </tbody>\n",
       "</table>\n",
       "</div>"
      ],
      "text/plain": [
       "      f1     f2     f3     f4     f5     f6     f7     f8\n",
       "0  False  False  False  False  False  False  False  False\n",
       "1   True   True   True  False   True  False  False   True\n",
       "2   True  False  False   True   True  False   True  False\n",
       "3  False  False   True   True   True  False   True   True\n",
       "4   True  False  False   True   True   True   True  False"
      ]
     },
     "execution_count": 9,
     "metadata": {},
     "output_type": "execute_result"
    }
   ],
   "source": [
    "flips_df = pd.DataFrame(flips, columns=['f1', 'f2', 'f3', 'f4', 'f5', 'f6', 'f7', 'f8'])\n",
    "flips_df.head()"
   ]
  },
  {
   "cell_type": "code",
   "execution_count": 10,
   "id": "3e887d3b",
   "metadata": {},
   "outputs": [
    {
     "data": {
      "text/plain": [
       "0.2175"
      ]
     },
     "execution_count": 10,
     "metadata": {},
     "output_type": "execute_result"
    }
   ],
   "source": [
    "(flips_df.sum(axis = 1) == 3).mean()"
   ]
  },
  {
   "cell_type": "code",
   "execution_count": 11,
   "id": "da65ade7",
   "metadata": {},
   "outputs": [
    {
     "data": {
      "text/plain": [
       "0.6487"
      ]
     },
     "execution_count": 11,
     "metadata": {},
     "output_type": "execute_result"
    }
   ],
   "source": [
    "#more than 3 heads\n",
    "(flips_df.sum(axis = 1) > 3).mean()"
   ]
  },
  {
   "cell_type": "code",
   "execution_count": 12,
   "id": "24dc5a7d",
   "metadata": {},
   "outputs": [
    {
     "data": {
      "text/plain": [
       "0.1338"
      ]
     },
     "execution_count": 12,
     "metadata": {},
     "output_type": "execute_result"
    }
   ],
   "source": [
    "# less than 3 heads (just to check my work and make sure they add up to 1.0)\n",
    "(flips_df.sum(axis = 1) < 3).mean()"
   ]
  },
  {
   "cell_type": "code",
   "execution_count": 13,
   "id": "229643db",
   "metadata": {},
   "outputs": [],
   "source": [
    "# 3. There are approximitely 3 web development cohorts for every 1 data science cohort at Codeup.\n",
    "#    (W-W-W-D)\n",
    "#    Assuming that Codeup randomly selects an alumni to put on a billboard, \n",
    "#    what are the odds that the two billboards I drive past both have data science students on them?\n",
    "\n",
    "\n",
    "p_ds_students = .25\n",
    "n_billboards = ncols = 2\n",
    "n_simulated_students = nrows = 10**3"
   ]
  },
  {
   "cell_type": "code",
   "execution_count": 14,
   "id": "2c85b15a",
   "metadata": {},
   "outputs": [
    {
     "data": {
      "text/plain": [
       "array([[0.978301  , 0.79029696],\n",
       "       [0.89307364, 0.05069881],\n",
       "       [0.85928566, 0.32280981],\n",
       "       ...,\n",
       "       [0.10122045, 0.2200362 ],\n",
       "       [0.11097673, 0.16536726],\n",
       "       [0.82198882, 0.61186632]])"
      ]
     },
     "execution_count": 14,
     "metadata": {},
     "output_type": "execute_result"
    }
   ],
   "source": [
    "data = np.random.random(size =(nrows, ncols))\n",
    "data"
   ]
  },
  {
   "cell_type": "code",
   "execution_count": 15,
   "id": "ae964abe",
   "metadata": {},
   "outputs": [
    {
     "data": {
      "text/plain": [
       "array([[False, False],\n",
       "       [False,  True],\n",
       "       [False, False],\n",
       "       ...,\n",
       "       [ True,  True],\n",
       "       [ True,  True],\n",
       "       [False, False]])"
      ]
     },
     "execution_count": 15,
     "metadata": {},
     "output_type": "execute_result"
    }
   ],
   "source": [
    "both_ds_students = data < p_ds_students\n",
    "both_ds_students"
   ]
  },
  {
   "cell_type": "code",
   "execution_count": 16,
   "id": "7a76adb5",
   "metadata": {},
   "outputs": [
    {
     "data": {
      "text/plain": [
       "0.07"
      ]
     },
     "execution_count": 16,
     "metadata": {},
     "output_type": "execute_result"
    }
   ],
   "source": [
    "(both_ds_students.sum(axis=1) == 2).mean()"
   ]
  },
  {
   "cell_type": "code",
   "execution_count": 17,
   "id": "ac2dedf3",
   "metadata": {},
   "outputs": [
    {
     "data": {
      "text/html": [
       "<div>\n",
       "<style scoped>\n",
       "    .dataframe tbody tr th:only-of-type {\n",
       "        vertical-align: middle;\n",
       "    }\n",
       "\n",
       "    .dataframe tbody tr th {\n",
       "        vertical-align: top;\n",
       "    }\n",
       "\n",
       "    .dataframe thead th {\n",
       "        text-align: right;\n",
       "    }\n",
       "</style>\n",
       "<table border=\"1\" class=\"dataframe\">\n",
       "  <thead>\n",
       "    <tr style=\"text-align: right;\">\n",
       "      <th></th>\n",
       "      <th>M</th>\n",
       "      <th>T</th>\n",
       "      <th>W</th>\n",
       "      <th>Th</th>\n",
       "      <th>F</th>\n",
       "    </tr>\n",
       "  </thead>\n",
       "  <tbody>\n",
       "    <tr>\n",
       "      <th>0</th>\n",
       "      <td>1.964413</td>\n",
       "      <td>1.433046</td>\n",
       "      <td>2.319327</td>\n",
       "      <td>1.794296</td>\n",
       "      <td>1.435755</td>\n",
       "    </tr>\n",
       "    <tr>\n",
       "      <th>1</th>\n",
       "      <td>2.240706</td>\n",
       "      <td>3.489582</td>\n",
       "      <td>3.630137</td>\n",
       "      <td>3.331864</td>\n",
       "      <td>2.498931</td>\n",
       "    </tr>\n",
       "    <tr>\n",
       "      <th>2</th>\n",
       "      <td>3.301183</td>\n",
       "      <td>3.867451</td>\n",
       "      <td>-0.946102</td>\n",
       "      <td>4.609741</td>\n",
       "      <td>-0.248830</td>\n",
       "    </tr>\n",
       "    <tr>\n",
       "      <th>3</th>\n",
       "      <td>1.679221</td>\n",
       "      <td>2.143221</td>\n",
       "      <td>4.438460</td>\n",
       "      <td>3.515642</td>\n",
       "      <td>2.654606</td>\n",
       "    </tr>\n",
       "    <tr>\n",
       "      <th>4</th>\n",
       "      <td>2.324847</td>\n",
       "      <td>3.508940</td>\n",
       "      <td>2.467056</td>\n",
       "      <td>1.219028</td>\n",
       "      <td>1.820149</td>\n",
       "    </tr>\n",
       "    <tr>\n",
       "      <th>5</th>\n",
       "      <td>4.077938</td>\n",
       "      <td>1.713429</td>\n",
       "      <td>-0.043857</td>\n",
       "      <td>1.740604</td>\n",
       "      <td>2.023534</td>\n",
       "    </tr>\n",
       "    <tr>\n",
       "      <th>6</th>\n",
       "      <td>4.015927</td>\n",
       "      <td>2.686295</td>\n",
       "      <td>5.318489</td>\n",
       "      <td>2.581965</td>\n",
       "      <td>5.744233</td>\n",
       "    </tr>\n",
       "    <tr>\n",
       "      <th>7</th>\n",
       "      <td>2.097810</td>\n",
       "      <td>3.909918</td>\n",
       "      <td>4.769957</td>\n",
       "      <td>4.970782</td>\n",
       "      <td>0.789648</td>\n",
       "    </tr>\n",
       "    <tr>\n",
       "      <th>8</th>\n",
       "      <td>3.837796</td>\n",
       "      <td>1.701885</td>\n",
       "      <td>3.574359</td>\n",
       "      <td>5.121088</td>\n",
       "      <td>1.683988</td>\n",
       "    </tr>\n",
       "    <tr>\n",
       "      <th>9</th>\n",
       "      <td>2.227728</td>\n",
       "      <td>6.096464</td>\n",
       "      <td>1.406963</td>\n",
       "      <td>4.624813</td>\n",
       "      <td>3.059143</td>\n",
       "    </tr>\n",
       "  </tbody>\n",
       "</table>\n",
       "</div>"
      ],
      "text/plain": [
       "          M         T         W        Th         F\n",
       "0  1.964413  1.433046  2.319327  1.794296  1.435755\n",
       "1  2.240706  3.489582  3.630137  3.331864  2.498931\n",
       "2  3.301183  3.867451 -0.946102  4.609741 -0.248830\n",
       "3  1.679221  2.143221  4.438460  3.515642  2.654606\n",
       "4  2.324847  3.508940  2.467056  1.219028  1.820149\n",
       "5  4.077938  1.713429 -0.043857  1.740604  2.023534\n",
       "6  4.015927  2.686295  5.318489  2.581965  5.744233\n",
       "7  2.097810  3.909918  4.769957  4.970782  0.789648\n",
       "8  3.837796  1.701885  3.574359  5.121088  1.683988\n",
       "9  2.227728  6.096464  1.406963  4.624813  3.059143"
      ]
     },
     "execution_count": 17,
     "metadata": {},
     "output_type": "execute_result"
    }
   ],
   "source": [
    "# 4 Poptart Problem\n",
    "# Monday morning = 17 poptarts. Averge consumption rate: 3/day. STD: 1.5 \n",
    "# Mon EOD: 14\n",
    "# Tues EOD: 11\n",
    "# Wed EOD: 8\n",
    "# Thu EOD: 5\n",
    "# Fri EOD: 2 what is the liklihood one of them will be mine?\n",
    "\n",
    "poptarts = np.random.normal(3, 1.5, size=(10, 5))\n",
    "poptarts_df = pd.DataFrame(poptarts, columns = ['M', 'T', 'W', 'Th', 'F'])\n",
    "poptarts_df"
   ]
  },
  {
   "cell_type": "code",
   "execution_count": 18,
   "id": "a226befc",
   "metadata": {},
   "outputs": [
    {
     "data": {
      "text/plain": [
       "0.2"
      ]
     },
     "execution_count": 18,
     "metadata": {},
     "output_type": "execute_result"
    }
   ],
   "source": [
    "# if the sum of a row >= 17, I get no poptarts on Friday. 30% chance I don't get poptarts.\n",
    "(poptarts_df.sum(axis = 1) >=17).mean()"
   ]
  },
  {
   "cell_type": "code",
   "execution_count": 19,
   "id": "e54ab216",
   "metadata": {},
   "outputs": [
    {
     "data": {
      "text/plain": [
       "0.8"
      ]
     },
     "execution_count": 19,
     "metadata": {},
     "output_type": "execute_result"
    }
   ],
   "source": [
    "(poptarts_df.sum(axis = 1) <=17).mean()"
   ]
  },
  {
   "cell_type": "code",
   "execution_count": 20,
   "id": "1fd74b24",
   "metadata": {},
   "outputs": [],
   "source": [
    "#5. Compare heights:\n",
    "#.  - Men have an average height of 178 cm and standard deviation of 8cm.\n",
    "#.  - Women have a mean of 170, sd = 6cm.\n",
    "#.  _ If a man and woman are chosen at random, what is the likelihood the woman is taller than the man?\n",
    "\n",
    "men = np.random.normal(178, 8, (100))\n",
    "women = np.random.normal(170, 6, (100))\n",
    "men_df = pd.DataFrame(men, columns = [\"men\"])\n",
    "women_df = pd.DataFrame(women, columns = [\"women\"])"
   ]
  },
  {
   "cell_type": "code",
   "execution_count": 21,
   "id": "1a9d6e25",
   "metadata": {},
   "outputs": [
    {
     "data": {
      "text/html": [
       "<div>\n",
       "<style scoped>\n",
       "    .dataframe tbody tr th:only-of-type {\n",
       "        vertical-align: middle;\n",
       "    }\n",
       "\n",
       "    .dataframe tbody tr th {\n",
       "        vertical-align: top;\n",
       "    }\n",
       "\n",
       "    .dataframe thead th {\n",
       "        text-align: right;\n",
       "    }\n",
       "</style>\n",
       "<table border=\"1\" class=\"dataframe\">\n",
       "  <thead>\n",
       "    <tr style=\"text-align: right;\">\n",
       "      <th></th>\n",
       "      <th>men</th>\n",
       "    </tr>\n",
       "  </thead>\n",
       "  <tbody>\n",
       "    <tr>\n",
       "      <th>0</th>\n",
       "      <td>181.869011</td>\n",
       "    </tr>\n",
       "    <tr>\n",
       "      <th>1</th>\n",
       "      <td>178.725610</td>\n",
       "    </tr>\n",
       "    <tr>\n",
       "      <th>2</th>\n",
       "      <td>175.938162</td>\n",
       "    </tr>\n",
       "    <tr>\n",
       "      <th>3</th>\n",
       "      <td>178.702543</td>\n",
       "    </tr>\n",
       "    <tr>\n",
       "      <th>4</th>\n",
       "      <td>176.822209</td>\n",
       "    </tr>\n",
       "    <tr>\n",
       "      <th>...</th>\n",
       "      <td>...</td>\n",
       "    </tr>\n",
       "    <tr>\n",
       "      <th>95</th>\n",
       "      <td>176.590214</td>\n",
       "    </tr>\n",
       "    <tr>\n",
       "      <th>96</th>\n",
       "      <td>162.192443</td>\n",
       "    </tr>\n",
       "    <tr>\n",
       "      <th>97</th>\n",
       "      <td>179.285751</td>\n",
       "    </tr>\n",
       "    <tr>\n",
       "      <th>98</th>\n",
       "      <td>183.719713</td>\n",
       "    </tr>\n",
       "    <tr>\n",
       "      <th>99</th>\n",
       "      <td>185.541663</td>\n",
       "    </tr>\n",
       "  </tbody>\n",
       "</table>\n",
       "<p>100 rows × 1 columns</p>\n",
       "</div>"
      ],
      "text/plain": [
       "           men\n",
       "0   181.869011\n",
       "1   178.725610\n",
       "2   175.938162\n",
       "3   178.702543\n",
       "4   176.822209\n",
       "..         ...\n",
       "95  176.590214\n",
       "96  162.192443\n",
       "97  179.285751\n",
       "98  183.719713\n",
       "99  185.541663\n",
       "\n",
       "[100 rows x 1 columns]"
      ]
     },
     "execution_count": 21,
     "metadata": {},
     "output_type": "execute_result"
    }
   ],
   "source": [
    "men_df"
   ]
  },
  {
   "cell_type": "code",
   "execution_count": 22,
   "id": "a996db0b",
   "metadata": {},
   "outputs": [
    {
     "data": {
      "text/html": [
       "<div>\n",
       "<style scoped>\n",
       "    .dataframe tbody tr th:only-of-type {\n",
       "        vertical-align: middle;\n",
       "    }\n",
       "\n",
       "    .dataframe tbody tr th {\n",
       "        vertical-align: top;\n",
       "    }\n",
       "\n",
       "    .dataframe thead th {\n",
       "        text-align: right;\n",
       "    }\n",
       "</style>\n",
       "<table border=\"1\" class=\"dataframe\">\n",
       "  <thead>\n",
       "    <tr style=\"text-align: right;\">\n",
       "      <th></th>\n",
       "      <th>women</th>\n",
       "    </tr>\n",
       "  </thead>\n",
       "  <tbody>\n",
       "    <tr>\n",
       "      <th>0</th>\n",
       "      <td>167.703457</td>\n",
       "    </tr>\n",
       "    <tr>\n",
       "      <th>1</th>\n",
       "      <td>160.390693</td>\n",
       "    </tr>\n",
       "    <tr>\n",
       "      <th>2</th>\n",
       "      <td>172.099938</td>\n",
       "    </tr>\n",
       "    <tr>\n",
       "      <th>3</th>\n",
       "      <td>165.373333</td>\n",
       "    </tr>\n",
       "    <tr>\n",
       "      <th>4</th>\n",
       "      <td>178.903315</td>\n",
       "    </tr>\n",
       "    <tr>\n",
       "      <th>...</th>\n",
       "      <td>...</td>\n",
       "    </tr>\n",
       "    <tr>\n",
       "      <th>95</th>\n",
       "      <td>188.005090</td>\n",
       "    </tr>\n",
       "    <tr>\n",
       "      <th>96</th>\n",
       "      <td>164.794834</td>\n",
       "    </tr>\n",
       "    <tr>\n",
       "      <th>97</th>\n",
       "      <td>174.534061</td>\n",
       "    </tr>\n",
       "    <tr>\n",
       "      <th>98</th>\n",
       "      <td>163.562699</td>\n",
       "    </tr>\n",
       "    <tr>\n",
       "      <th>99</th>\n",
       "      <td>174.715522</td>\n",
       "    </tr>\n",
       "  </tbody>\n",
       "</table>\n",
       "<p>100 rows × 1 columns</p>\n",
       "</div>"
      ],
      "text/plain": [
       "         women\n",
       "0   167.703457\n",
       "1   160.390693\n",
       "2   172.099938\n",
       "3   165.373333\n",
       "4   178.903315\n",
       "..         ...\n",
       "95  188.005090\n",
       "96  164.794834\n",
       "97  174.534061\n",
       "98  163.562699\n",
       "99  174.715522\n",
       "\n",
       "[100 rows x 1 columns]"
      ]
     },
     "execution_count": 22,
     "metadata": {},
     "output_type": "execute_result"
    }
   ],
   "source": [
    "women_df"
   ]
  },
  {
   "cell_type": "code",
   "execution_count": 23,
   "id": "024b018b",
   "metadata": {},
   "outputs": [
    {
     "data": {
      "text/html": [
       "<div>\n",
       "<style scoped>\n",
       "    .dataframe tbody tr th:only-of-type {\n",
       "        vertical-align: middle;\n",
       "    }\n",
       "\n",
       "    .dataframe tbody tr th {\n",
       "        vertical-align: top;\n",
       "    }\n",
       "\n",
       "    .dataframe thead th {\n",
       "        text-align: right;\n",
       "    }\n",
       "</style>\n",
       "<table border=\"1\" class=\"dataframe\">\n",
       "  <thead>\n",
       "    <tr style=\"text-align: right;\">\n",
       "      <th></th>\n",
       "      <th>men</th>\n",
       "      <th>women</th>\n",
       "    </tr>\n",
       "  </thead>\n",
       "  <tbody>\n",
       "    <tr>\n",
       "      <th>0</th>\n",
       "      <td>181.869011</td>\n",
       "      <td>167.703457</td>\n",
       "    </tr>\n",
       "    <tr>\n",
       "      <th>1</th>\n",
       "      <td>178.725610</td>\n",
       "      <td>160.390693</td>\n",
       "    </tr>\n",
       "    <tr>\n",
       "      <th>2</th>\n",
       "      <td>175.938162</td>\n",
       "      <td>172.099938</td>\n",
       "    </tr>\n",
       "    <tr>\n",
       "      <th>3</th>\n",
       "      <td>178.702543</td>\n",
       "      <td>165.373333</td>\n",
       "    </tr>\n",
       "    <tr>\n",
       "      <th>4</th>\n",
       "      <td>176.822209</td>\n",
       "      <td>178.903315</td>\n",
       "    </tr>\n",
       "    <tr>\n",
       "      <th>...</th>\n",
       "      <td>...</td>\n",
       "      <td>...</td>\n",
       "    </tr>\n",
       "    <tr>\n",
       "      <th>95</th>\n",
       "      <td>176.590214</td>\n",
       "      <td>188.005090</td>\n",
       "    </tr>\n",
       "    <tr>\n",
       "      <th>96</th>\n",
       "      <td>162.192443</td>\n",
       "      <td>164.794834</td>\n",
       "    </tr>\n",
       "    <tr>\n",
       "      <th>97</th>\n",
       "      <td>179.285751</td>\n",
       "      <td>174.534061</td>\n",
       "    </tr>\n",
       "    <tr>\n",
       "      <th>98</th>\n",
       "      <td>183.719713</td>\n",
       "      <td>163.562699</td>\n",
       "    </tr>\n",
       "    <tr>\n",
       "      <th>99</th>\n",
       "      <td>185.541663</td>\n",
       "      <td>174.715522</td>\n",
       "    </tr>\n",
       "  </tbody>\n",
       "</table>\n",
       "<p>100 rows × 2 columns</p>\n",
       "</div>"
      ],
      "text/plain": [
       "           men       women\n",
       "0   181.869011  167.703457\n",
       "1   178.725610  160.390693\n",
       "2   175.938162  172.099938\n",
       "3   178.702543  165.373333\n",
       "4   176.822209  178.903315\n",
       "..         ...         ...\n",
       "95  176.590214  188.005090\n",
       "96  162.192443  164.794834\n",
       "97  179.285751  174.534061\n",
       "98  183.719713  163.562699\n",
       "99  185.541663  174.715522\n",
       "\n",
       "[100 rows x 2 columns]"
      ]
     },
     "execution_count": 23,
     "metadata": {},
     "output_type": "execute_result"
    }
   ],
   "source": [
    "heights_df = pd.concat([men_df, women_df], axis = 1)\n",
    "heights_df"
   ]
  },
  {
   "cell_type": "code",
   "execution_count": 24,
   "id": "05077934",
   "metadata": {},
   "outputs": [
    {
     "data": {
      "text/plain": [
       "196.49946928488873"
      ]
     },
     "execution_count": 24,
     "metadata": {},
     "output_type": "execute_result"
    }
   ],
   "source": [
    "heights_df.men.max()"
   ]
  },
  {
   "cell_type": "code",
   "execution_count": 25,
   "id": "cee7182a",
   "metadata": {},
   "outputs": [],
   "source": [
    "heights_df['tall_women']= heights_df.men < heights_df.women\n"
   ]
  },
  {
   "cell_type": "code",
   "execution_count": 26,
   "id": "182f1f4e",
   "metadata": {},
   "outputs": [
    {
     "data": {
      "text/html": [
       "<div>\n",
       "<style scoped>\n",
       "    .dataframe tbody tr th:only-of-type {\n",
       "        vertical-align: middle;\n",
       "    }\n",
       "\n",
       "    .dataframe tbody tr th {\n",
       "        vertical-align: top;\n",
       "    }\n",
       "\n",
       "    .dataframe thead th {\n",
       "        text-align: right;\n",
       "    }\n",
       "</style>\n",
       "<table border=\"1\" class=\"dataframe\">\n",
       "  <thead>\n",
       "    <tr style=\"text-align: right;\">\n",
       "      <th></th>\n",
       "      <th>men</th>\n",
       "      <th>women</th>\n",
       "      <th>tall_women</th>\n",
       "    </tr>\n",
       "  </thead>\n",
       "  <tbody>\n",
       "    <tr>\n",
       "      <th>0</th>\n",
       "      <td>181.869011</td>\n",
       "      <td>167.703457</td>\n",
       "      <td>False</td>\n",
       "    </tr>\n",
       "    <tr>\n",
       "      <th>1</th>\n",
       "      <td>178.725610</td>\n",
       "      <td>160.390693</td>\n",
       "      <td>False</td>\n",
       "    </tr>\n",
       "    <tr>\n",
       "      <th>2</th>\n",
       "      <td>175.938162</td>\n",
       "      <td>172.099938</td>\n",
       "      <td>False</td>\n",
       "    </tr>\n",
       "    <tr>\n",
       "      <th>3</th>\n",
       "      <td>178.702543</td>\n",
       "      <td>165.373333</td>\n",
       "      <td>False</td>\n",
       "    </tr>\n",
       "    <tr>\n",
       "      <th>4</th>\n",
       "      <td>176.822209</td>\n",
       "      <td>178.903315</td>\n",
       "      <td>True</td>\n",
       "    </tr>\n",
       "    <tr>\n",
       "      <th>...</th>\n",
       "      <td>...</td>\n",
       "      <td>...</td>\n",
       "      <td>...</td>\n",
       "    </tr>\n",
       "    <tr>\n",
       "      <th>95</th>\n",
       "      <td>176.590214</td>\n",
       "      <td>188.005090</td>\n",
       "      <td>True</td>\n",
       "    </tr>\n",
       "    <tr>\n",
       "      <th>96</th>\n",
       "      <td>162.192443</td>\n",
       "      <td>164.794834</td>\n",
       "      <td>True</td>\n",
       "    </tr>\n",
       "    <tr>\n",
       "      <th>97</th>\n",
       "      <td>179.285751</td>\n",
       "      <td>174.534061</td>\n",
       "      <td>False</td>\n",
       "    </tr>\n",
       "    <tr>\n",
       "      <th>98</th>\n",
       "      <td>183.719713</td>\n",
       "      <td>163.562699</td>\n",
       "      <td>False</td>\n",
       "    </tr>\n",
       "    <tr>\n",
       "      <th>99</th>\n",
       "      <td>185.541663</td>\n",
       "      <td>174.715522</td>\n",
       "      <td>False</td>\n",
       "    </tr>\n",
       "  </tbody>\n",
       "</table>\n",
       "<p>100 rows × 3 columns</p>\n",
       "</div>"
      ],
      "text/plain": [
       "           men       women  tall_women\n",
       "0   181.869011  167.703457       False\n",
       "1   178.725610  160.390693       False\n",
       "2   175.938162  172.099938       False\n",
       "3   178.702543  165.373333       False\n",
       "4   176.822209  178.903315        True\n",
       "..         ...         ...         ...\n",
       "95  176.590214  188.005090        True\n",
       "96  162.192443  164.794834        True\n",
       "97  179.285751  174.534061       False\n",
       "98  183.719713  163.562699       False\n",
       "99  185.541663  174.715522       False\n",
       "\n",
       "[100 rows x 3 columns]"
      ]
     },
     "execution_count": 26,
     "metadata": {},
     "output_type": "execute_result"
    }
   ],
   "source": [
    "heights_df"
   ]
  },
  {
   "cell_type": "code",
   "execution_count": 27,
   "id": "b9c330df",
   "metadata": {},
   "outputs": [
    {
     "data": {
      "text/plain": [
       "22"
      ]
     },
     "execution_count": 27,
     "metadata": {},
     "output_type": "execute_result"
    }
   ],
   "source": [
    "heights_df.tall_women.sum()"
   ]
  },
  {
   "cell_type": "code",
   "execution_count": 28,
   "id": "ae3de3e5",
   "metadata": {},
   "outputs": [
    {
     "data": {
      "text/plain": [
       "0.22"
      ]
     },
     "execution_count": 28,
     "metadata": {},
     "output_type": "execute_result"
    }
   ],
   "source": [
    "(women>men).mean()"
   ]
  },
  {
   "cell_type": "markdown",
   "id": "9a591b58",
   "metadata": {},
   "source": [
    "## #6 anaconda instilation"
   ]
  },
  {
   "cell_type": "code",
   "execution_count": 29,
   "id": "f497923f",
   "metadata": {},
   "outputs": [
    {
     "data": {
      "text/plain": [
       "0.8165"
      ]
     },
     "execution_count": 29,
     "metadata": {},
     "output_type": "execute_result"
    }
   ],
   "source": [
    "# What are the odds that after having 50 students download anaconda,\n",
    "#no one has an installation issue?\n",
    "install = np.random.choice([0,1], size = (10000, 50), p = [249/250, 1/250])\n",
    "install\n",
    "(install.sum(axis = 1) == 0).mean()\n",
    "\n"
   ]
  },
  {
   "cell_type": "code",
   "execution_count": 30,
   "id": "76997597",
   "metadata": {},
   "outputs": [
    {
     "data": {
      "text/plain": [
       "0.6628"
      ]
     },
     "execution_count": 30,
     "metadata": {},
     "output_type": "execute_result"
    }
   ],
   "source": [
    "# probability for 100 students:\n",
    "install_100 = np.random.choice([0,1], size = (10000, 100), p = [249/250, 1/250 ] )\n",
    "install_100\n",
    "\n",
    "(install_100.sum(axis = 1) == 0).mean()\n"
   ]
  },
  {
   "cell_type": "code",
   "execution_count": 31,
   "id": "00653ae7",
   "metadata": {},
   "outputs": [
    {
     "data": {
      "text/plain": [
       "0.4514"
      ]
     },
     "execution_count": 31,
     "metadata": {},
     "output_type": "execute_result"
    }
   ],
   "source": [
    "#probability of having an issue within 150 installs\n",
    "install_150 = np.random.choice([0,1], size = (10000, 150), p = [249/250, 1/250 ] )\n",
    "install_150\n",
    "\n",
    "(install_150.sum(axis =1) > 0).mean()"
   ]
  },
  {
   "cell_type": "code",
   "execution_count": 32,
   "id": "51226f7e",
   "metadata": {},
   "outputs": [
    {
     "data": {
      "text/plain": [
       "0.1687"
      ]
     },
     "execution_count": 32,
     "metadata": {},
     "output_type": "execute_result"
    }
   ],
   "source": [
    "# probability of no issue at 450 installs\n",
    "install_450 = np.random.choice([0,1], size = (10000, 450), p = [249/250, 1/250 ] )\n",
    "install_450\n",
    "\n",
    "(install_450.sum(axis=1)==0).mean()"
   ]
  },
  {
   "cell_type": "markdown",
   "id": "788db1b8",
   "metadata": {},
   "source": [
    "## #7 Food trucks at the park"
   ]
  },
  {
   "cell_type": "markdown",
   "id": "eed0ad61",
   "metadata": {},
   "source": [
    "There's a 70% chance on any given day that there will be at least one food truck at Travis Park. However, you haven't seen a food truck there in 3 days. How unlikely is this?\n"
   ]
  },
  {
   "cell_type": "code",
   "execution_count": 33,
   "id": "8d814ca4",
   "metadata": {},
   "outputs": [
    {
     "data": {
      "text/plain": [
       "0.0273"
      ]
     },
     "execution_count": 33,
     "metadata": {},
     "output_type": "execute_result"
    }
   ],
   "source": [
    "trucks = np.random.choice([0, 1], size = (10000, 3), p = [0.3, 0.7] )\n",
    "trucks\n",
    "(trucks.sum(axis = 1)==0).mean()"
   ]
  },
  {
   "cell_type": "code",
   "execution_count": 35,
   "id": "3dd60584",
   "metadata": {},
   "outputs": [
    {
     "data": {
      "text/plain": [
       "1.0"
      ]
     },
     "execution_count": 35,
     "metadata": {},
     "output_type": "execute_result"
    }
   ],
   "source": [
    "# probability that a truck will show up this week:\n",
    "trucks_this_week = np.random.choice([0,1], size = (1000, 7), p = [0.3, 0.7])\n",
    "trucks_this_week\n",
    "\n",
    "(trucks_this_week.sum(axis=1)>=1).mean()"
   ]
  },
  {
   "cell_type": "markdown",
   "id": "ff6f206e",
   "metadata": {},
   "source": [
    "## #8 shared birthdays"
   ]
  },
  {
   "cell_type": "code",
   "execution_count": 36,
   "id": "ef787b2e",
   "metadata": {},
   "outputs": [
    {
     "data": {
      "text/plain": [
       "0.5158"
      ]
     },
     "execution_count": 36,
     "metadata": {},
     "output_type": "execute_result"
    }
   ],
   "source": [
    "# odds if there are 23 people in a room\n",
    "bd = np.random.choice(range(1,366), size = (10000, 23))\n",
    "bd\n",
    "\n",
    "pd.DataFrame(bd).nunique(axis = 1)\n",
    "\n",
    "(pd.DataFrame(bd).nunique(axis = 1) < 23).mean()"
   ]
  },
  {
   "cell_type": "code",
   "execution_count": 39,
   "id": "ec2bcd94",
   "metadata": {},
   "outputs": [
    {
     "data": {
      "text/plain": [
       "0.4132"
      ]
     },
     "execution_count": 39,
     "metadata": {},
     "output_type": "execute_result"
    }
   ],
   "source": [
    "# probabilty when 20 people\n",
    "bd = np.random.choice(range(1,366), size = (10000, 20))\n",
    "bd\n",
    "\n",
    "pd.DataFrame(bd).nunique(axis = 1)\n",
    "\n",
    "(pd.DataFrame(bd).nunique(axis = 1) < 20).mean()"
   ]
  },
  {
   "cell_type": "code",
   "execution_count": 38,
   "id": "5c3961bb",
   "metadata": {},
   "outputs": [
    {
     "data": {
      "text/plain": [
       "0.8921"
      ]
     },
     "execution_count": 38,
     "metadata": {},
     "output_type": "execute_result"
    }
   ],
   "source": [
    "# probabiity when 40 people:\n",
    "bd = np.random.choice(range(1,366), size = (10000, 40))\n",
    "bd\n",
    "\n",
    "pd.DataFrame(bd).nunique(axis = 1)\n",
    "\n",
    "(pd.DataFrame(bd).nunique(axis = 1) < 40).mean()"
   ]
  },
  {
   "cell_type": "code",
   "execution_count": null,
   "id": "ec14745d",
   "metadata": {},
   "outputs": [],
   "source": []
  }
 ],
 "metadata": {
  "kernelspec": {
   "display_name": "Python 3 (ipykernel)",
   "language": "python",
   "name": "python3"
  },
  "language_info": {
   "codemirror_mode": {
    "name": "ipython",
    "version": 3
   },
   "file_extension": ".py",
   "mimetype": "text/x-python",
   "name": "python",
   "nbconvert_exporter": "python",
   "pygments_lexer": "ipython3",
   "version": "3.9.12"
  }
 },
 "nbformat": 4,
 "nbformat_minor": 5
}
